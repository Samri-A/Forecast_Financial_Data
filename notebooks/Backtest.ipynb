{
 "cells": [
  {
   "cell_type": "code",
   "execution_count": 4,
   "id": "9a19b66e",
   "metadata": {},
   "outputs": [],
   "source": [
    "import sys\n",
    "sys.path.append(\"../scripts\")\n",
    "from back_test import PortfolioBacktester"
   ]
  },
  {
   "cell_type": "code",
   "execution_count": 5,
   "id": "dd038ada",
   "metadata": {},
   "outputs": [],
   "source": [
    "import warnings\n",
    "warnings.filterwarnings('ignore')\n",
    "import pandas as pd\n",
    "import backtrader as bt"
   ]
  },
  {
   "cell_type": "code",
   "execution_count": null,
   "id": "6b54f96a",
   "metadata": {},
   "outputs": [
    {
     "name": "stdout",
     "output_type": "stream",
     "text": [
      "TSLA weights over time:\n",
      "[np.float64(0.0)]\n"
     ]
    }
   ],
   "source": [
    "TSLA_df = pd.read_csv(\"../data/TSLA_10years_data.csv\", parse_dates=[\"Date\"], index_col=\"Date\")\n",
    "SPY_df  = pd.read_csv(\"../data/SPY_10years_data.csv\", parse_dates=[\"Date\"], index_col=\"Date\")\n",
    "BND_df  = pd.read_csv(\"../data/BND_10years_data.csv\", parse_dates=[\"Date\"], index_col=\"Date\")\n",
    "\n",
    "price_data = pd.concat([\n",
    "    TSLA_df[\"Close\"].rename(\"TSLA\"),\n",
    "    SPY_df[\"Close\"].rename(\"SPY\"),\n",
    "    BND_df[\"Close\"].rename(\"BND\")\n",
    "], axis=1).dropna()\n",
    "\n",
    "\n",
    "bt = PortfolioBacktester(\n",
    "    price_data=price_data,\n",
    "    strategy_tickers=[\"TSLA\", \"SPY\", \"BND\"],\n",
    "    strategy_kind=\"min_vol\",    \n",
    "    rebalance=\"buy_and_hold\",    \n",
    "    lookback_days=126,\n",
    "    risk_free=0.0\n",
    ")\n",
    "\n",
    "strategy_returns = bt.backtest_strategy()\n",
    "benchmark_returns = bt.backtest_benchmark()\n",
    "\n",
    "weights_df = pd.DataFrame(bt.weights_log, columns=[\"Date\", \"Weights\"])\n",
    "weights_df.set_index(\"Date\", inplace=True)\n",
    "tsla_weights = [w[\"TSLA\"] for w in weights_df[\"Weights\"]]\n",
    "print(\"TSLA weights over time:\")\n",
    "print(tsla_weights)\n"
   ]
  },
  {
   "cell_type": "code",
   "execution_count": 16,
   "id": "802445f6",
   "metadata": {},
   "outputs": [
    {
     "name": "stdout",
     "output_type": "stream",
     "text": [
      "Strategy metrics:\n"
     ]
    },
    {
     "data": {
      "text/plain": [
       "{'Annual Return': np.float64(0.054007515394802974),\n",
       " 'Annual Volatility': np.float64(0.050943774703514945),\n",
       " 'Sharpe': np.float64(1.057984857999635),\n",
       " 'Cumulative Return': np.float64(0.054007515394802974),\n",
       " 'Max Drawdown': np.float64(-0.03832240076048854)}"
      ]
     },
     "execution_count": 16,
     "metadata": {},
     "output_type": "execute_result"
    }
   ],
   "source": [
    "\n",
    "print(\"Strategy metrics:\")\n",
    "bt.metrics(strategy_returns)\n",
    "\n"
   ]
  },
  {
   "cell_type": "code",
   "execution_count": 15,
   "id": "3550718b",
   "metadata": {},
   "outputs": [
    {
     "name": "stdout",
     "output_type": "stream",
     "text": [
      "Benchmark metrics:\n"
     ]
    },
    {
     "data": {
      "text/plain": [
       "{'Annual Return': np.float64(0.1552960296947341),\n",
       " 'Annual Volatility': np.float64(0.12256369913695017),\n",
       " 'Sharpe': np.float64(1.2387758616901368),\n",
       " 'Cumulative Return': np.float64(0.1552960296947341),\n",
       " 'Max Drawdown': np.float64(-0.11288787616229357)}"
      ]
     },
     "execution_count": 15,
     "metadata": {},
     "output_type": "execute_result"
    }
   ],
   "source": [
    "print(\"Benchmark metrics:\")\n",
    "bt.metrics(benchmark_returns)"
   ]
  }
 ],
 "metadata": {
  "kernelspec": {
   "display_name": "venv",
   "language": "python",
   "name": "python3"
  },
  "language_info": {
   "codemirror_mode": {
    "name": "ipython",
    "version": 3
   },
   "file_extension": ".py",
   "mimetype": "text/x-python",
   "name": "python",
   "nbconvert_exporter": "python",
   "pygments_lexer": "ipython3",
   "version": "3.13.5"
  }
 },
 "nbformat": 4,
 "nbformat_minor": 5
}
