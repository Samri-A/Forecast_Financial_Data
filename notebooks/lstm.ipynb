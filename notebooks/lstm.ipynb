{
 "cells": [
  {
   "cell_type": "code",
   "execution_count": 1,
   "metadata": {
    "_cell_guid": "b1076dfc-b9ad-4769-8c92-a6c4dae69d19",
    "_uuid": "8f2839f25d086af736a60e9eeb907d3b93b6e0e5",
    "execution": {
     "iopub.execute_input": "2025-08-12T15:08:40.336689Z",
     "iopub.status.busy": "2025-08-12T15:08:40.336322Z",
     "iopub.status.idle": "2025-08-12T15:08:40.341684Z",
     "shell.execute_reply": "2025-08-12T15:08:40.340673Z",
     "shell.execute_reply.started": "2025-08-12T15:08:40.336660Z"
    },
    "trusted": true
   },
   "outputs": [
    {
     "name": "stderr",
     "output_type": "stream",
     "text": [
      "c:\\Users\\HP\\OneDrive\\Desktop\\Tenx\\Forecast_Financial_Data\\venv\\Lib\\site-packages\\google\\protobuf\\runtime_version.py:98: UserWarning: Protobuf gencode version 5.28.3 is exactly one major version older than the runtime version 6.31.1 at tensorflow/core/framework/attr_value.proto. Please update the gencode to avoid compatibility violations in the next runtime release.\n",
      "  warnings.warn(\n",
      "c:\\Users\\HP\\OneDrive\\Desktop\\Tenx\\Forecast_Financial_Data\\venv\\Lib\\site-packages\\google\\protobuf\\runtime_version.py:98: UserWarning: Protobuf gencode version 5.28.3 is exactly one major version older than the runtime version 6.31.1 at tensorflow/core/framework/tensor.proto. Please update the gencode to avoid compatibility violations in the next runtime release.\n",
      "  warnings.warn(\n",
      "c:\\Users\\HP\\OneDrive\\Desktop\\Tenx\\Forecast_Financial_Data\\venv\\Lib\\site-packages\\google\\protobuf\\runtime_version.py:98: UserWarning: Protobuf gencode version 5.28.3 is exactly one major version older than the runtime version 6.31.1 at tensorflow/core/framework/resource_handle.proto. Please update the gencode to avoid compatibility violations in the next runtime release.\n",
      "  warnings.warn(\n",
      "c:\\Users\\HP\\OneDrive\\Desktop\\Tenx\\Forecast_Financial_Data\\venv\\Lib\\site-packages\\google\\protobuf\\runtime_version.py:98: UserWarning: Protobuf gencode version 5.28.3 is exactly one major version older than the runtime version 6.31.1 at tensorflow/core/framework/tensor_shape.proto. Please update the gencode to avoid compatibility violations in the next runtime release.\n",
      "  warnings.warn(\n",
      "c:\\Users\\HP\\OneDrive\\Desktop\\Tenx\\Forecast_Financial_Data\\venv\\Lib\\site-packages\\google\\protobuf\\runtime_version.py:98: UserWarning: Protobuf gencode version 5.28.3 is exactly one major version older than the runtime version 6.31.1 at tensorflow/core/framework/types.proto. Please update the gencode to avoid compatibility violations in the next runtime release.\n",
      "  warnings.warn(\n",
      "c:\\Users\\HP\\OneDrive\\Desktop\\Tenx\\Forecast_Financial_Data\\venv\\Lib\\site-packages\\google\\protobuf\\runtime_version.py:98: UserWarning: Protobuf gencode version 5.28.3 is exactly one major version older than the runtime version 6.31.1 at tensorflow/core/framework/full_type.proto. Please update the gencode to avoid compatibility violations in the next runtime release.\n",
      "  warnings.warn(\n",
      "c:\\Users\\HP\\OneDrive\\Desktop\\Tenx\\Forecast_Financial_Data\\venv\\Lib\\site-packages\\google\\protobuf\\runtime_version.py:98: UserWarning: Protobuf gencode version 5.28.3 is exactly one major version older than the runtime version 6.31.1 at tensorflow/core/framework/function.proto. Please update the gencode to avoid compatibility violations in the next runtime release.\n",
      "  warnings.warn(\n",
      "c:\\Users\\HP\\OneDrive\\Desktop\\Tenx\\Forecast_Financial_Data\\venv\\Lib\\site-packages\\google\\protobuf\\runtime_version.py:98: UserWarning: Protobuf gencode version 5.28.3 is exactly one major version older than the runtime version 6.31.1 at tensorflow/core/framework/node_def.proto. Please update the gencode to avoid compatibility violations in the next runtime release.\n",
      "  warnings.warn(\n",
      "c:\\Users\\HP\\OneDrive\\Desktop\\Tenx\\Forecast_Financial_Data\\venv\\Lib\\site-packages\\google\\protobuf\\runtime_version.py:98: UserWarning: Protobuf gencode version 5.28.3 is exactly one major version older than the runtime version 6.31.1 at tensorflow/core/framework/op_def.proto. Please update the gencode to avoid compatibility violations in the next runtime release.\n",
      "  warnings.warn(\n",
      "c:\\Users\\HP\\OneDrive\\Desktop\\Tenx\\Forecast_Financial_Data\\venv\\Lib\\site-packages\\google\\protobuf\\runtime_version.py:98: UserWarning: Protobuf gencode version 5.28.3 is exactly one major version older than the runtime version 6.31.1 at tensorflow/core/framework/graph.proto. Please update the gencode to avoid compatibility violations in the next runtime release.\n",
      "  warnings.warn(\n",
      "c:\\Users\\HP\\OneDrive\\Desktop\\Tenx\\Forecast_Financial_Data\\venv\\Lib\\site-packages\\google\\protobuf\\runtime_version.py:98: UserWarning: Protobuf gencode version 5.28.3 is exactly one major version older than the runtime version 6.31.1 at tensorflow/core/framework/graph_debug_info.proto. Please update the gencode to avoid compatibility violations in the next runtime release.\n",
      "  warnings.warn(\n",
      "c:\\Users\\HP\\OneDrive\\Desktop\\Tenx\\Forecast_Financial_Data\\venv\\Lib\\site-packages\\google\\protobuf\\runtime_version.py:98: UserWarning: Protobuf gencode version 5.28.3 is exactly one major version older than the runtime version 6.31.1 at tensorflow/core/framework/versions.proto. Please update the gencode to avoid compatibility violations in the next runtime release.\n",
      "  warnings.warn(\n",
      "c:\\Users\\HP\\OneDrive\\Desktop\\Tenx\\Forecast_Financial_Data\\venv\\Lib\\site-packages\\google\\protobuf\\runtime_version.py:98: UserWarning: Protobuf gencode version 5.28.3 is exactly one major version older than the runtime version 6.31.1 at tensorflow/core/protobuf/config.proto. Please update the gencode to avoid compatibility violations in the next runtime release.\n",
      "  warnings.warn(\n",
      "c:\\Users\\HP\\OneDrive\\Desktop\\Tenx\\Forecast_Financial_Data\\venv\\Lib\\site-packages\\google\\protobuf\\runtime_version.py:98: UserWarning: Protobuf gencode version 5.28.3 is exactly one major version older than the runtime version 6.31.1 at xla/tsl/protobuf/coordination_config.proto. Please update the gencode to avoid compatibility violations in the next runtime release.\n",
      "  warnings.warn(\n",
      "c:\\Users\\HP\\OneDrive\\Desktop\\Tenx\\Forecast_Financial_Data\\venv\\Lib\\site-packages\\google\\protobuf\\runtime_version.py:98: UserWarning: Protobuf gencode version 5.28.3 is exactly one major version older than the runtime version 6.31.1 at tensorflow/core/framework/cost_graph.proto. Please update the gencode to avoid compatibility violations in the next runtime release.\n",
      "  warnings.warn(\n",
      "c:\\Users\\HP\\OneDrive\\Desktop\\Tenx\\Forecast_Financial_Data\\venv\\Lib\\site-packages\\google\\protobuf\\runtime_version.py:98: UserWarning: Protobuf gencode version 5.28.3 is exactly one major version older than the runtime version 6.31.1 at tensorflow/core/framework/step_stats.proto. Please update the gencode to avoid compatibility violations in the next runtime release.\n",
      "  warnings.warn(\n",
      "c:\\Users\\HP\\OneDrive\\Desktop\\Tenx\\Forecast_Financial_Data\\venv\\Lib\\site-packages\\google\\protobuf\\runtime_version.py:98: UserWarning: Protobuf gencode version 5.28.3 is exactly one major version older than the runtime version 6.31.1 at tensorflow/core/framework/allocation_description.proto. Please update the gencode to avoid compatibility violations in the next runtime release.\n",
      "  warnings.warn(\n",
      "c:\\Users\\HP\\OneDrive\\Desktop\\Tenx\\Forecast_Financial_Data\\venv\\Lib\\site-packages\\google\\protobuf\\runtime_version.py:98: UserWarning: Protobuf gencode version 5.28.3 is exactly one major version older than the runtime version 6.31.1 at tensorflow/core/framework/tensor_description.proto. Please update the gencode to avoid compatibility violations in the next runtime release.\n",
      "  warnings.warn(\n",
      "c:\\Users\\HP\\OneDrive\\Desktop\\Tenx\\Forecast_Financial_Data\\venv\\Lib\\site-packages\\google\\protobuf\\runtime_version.py:98: UserWarning: Protobuf gencode version 5.28.3 is exactly one major version older than the runtime version 6.31.1 at tensorflow/core/protobuf/cluster.proto. Please update the gencode to avoid compatibility violations in the next runtime release.\n",
      "  warnings.warn(\n",
      "c:\\Users\\HP\\OneDrive\\Desktop\\Tenx\\Forecast_Financial_Data\\venv\\Lib\\site-packages\\google\\protobuf\\runtime_version.py:98: UserWarning: Protobuf gencode version 5.28.3 is exactly one major version older than the runtime version 6.31.1 at tensorflow/core/protobuf/debug.proto. Please update the gencode to avoid compatibility violations in the next runtime release.\n",
      "  warnings.warn(\n"
     ]
    }
   ],
   "source": [
    "import pandas as pd\n",
    "import tensorflow.keras.layers as Layer\n",
    "from tensorflow.keras import optimizers, Sequential, Model\n",
    "import tensorflow as tf\n",
    "import matplotlib.pyplot as plt\n",
    "from sklearn.preprocessing import MinMaxScaler\n",
    "import numpy as np\n",
    "from tensorflow.keras.callbacks import ModelCheckpoint\n",
    "from tensorflow.keras.losses import MeanSquaredError\n",
    "from tensorflow.keras.metrics import RootMeanSquaredError\n",
    "import matplotlib.pyplot as plt\n",
    "from statsmodels.tsa.stattools import adfuller \n",
    "from sklearn.metrics import mean_absolute_error, mean_squared_error\n",
    "import warnings\n",
    "warnings.filterwarnings('ignore')\n"
   ]
  },
  {
   "cell_type": "markdown",
   "metadata": {},
   "source": [
    "Upload the data"
   ]
  },
  {
   "cell_type": "code",
   "execution_count": 2,
   "metadata": {
    "execution": {
     "iopub.execute_input": "2025-08-12T14:49:12.875047Z",
     "iopub.status.busy": "2025-08-12T14:49:12.874763Z",
     "iopub.status.idle": "2025-08-12T14:49:12.960438Z",
     "shell.execute_reply": "2025-08-12T14:49:12.959661Z",
     "shell.execute_reply.started": "2025-08-12T14:49:12.875028Z"
    },
    "trusted": true
   },
   "outputs": [],
   "source": [
    "df = pd.read_csv(\"../data/TSLA_10years_data.csv\")\n",
    "scaler = MinMaxScaler() \n",
    "df[\"Close\"]  =  scaler.fit_transform(df[[\"Close\"]]) \n",
    "df[\"Date\"] = pd.to_datetime(df[\"Date\"])\n",
    "df.set_index(\"Date\", inplace=True)\n",
    "data = df[\"Close\"]"
   ]
  },
  {
   "cell_type": "markdown",
   "metadata": {},
   "source": [
    "Split the data"
   ]
  },
  {
   "cell_type": "code",
   "execution_count": 3,
   "metadata": {
    "execution": {
     "iopub.execute_input": "2025-08-12T14:50:01.508420Z",
     "iopub.status.busy": "2025-08-12T14:50:01.508093Z",
     "iopub.status.idle": "2025-08-12T14:50:01.514652Z",
     "shell.execute_reply": "2025-08-12T14:50:01.513766Z",
     "shell.execute_reply.started": "2025-08-12T14:50:01.508392Z"
    },
    "trusted": true
   },
   "outputs": [
    {
     "name": "stdout",
     "output_type": "stream",
     "text": [
      "2113\n"
     ]
    }
   ],
   "source": [
    "train_data_length = len(data[data.index < pd.Timestamp('2024-01-01' ,  tz='UTC')])\n",
    "print(train_data_length)"
   ]
  },
  {
   "cell_type": "code",
   "execution_count": 4,
   "metadata": {},
   "outputs": [],
   "source": [
    "def create_sequences(data, window=60):\n",
    "    X, y = [], []\n",
    "    for i in range(len(data)-window):\n",
    "        X.append(data[i:i+window])\n",
    "        y.append(data[i+window])\n",
    "    return np.array(X), np.array(y)"
   ]
  },
  {
   "cell_type": "code",
   "execution_count": 5,
   "metadata": {},
   "outputs": [],
   "source": [
    "X , y = create_sequences(data, window=120)"
   ]
  },
  {
   "cell_type": "code",
   "execution_count": 6,
   "metadata": {
    "execution": {
     "iopub.execute_input": "2025-08-12T14:52:10.660136Z",
     "iopub.status.busy": "2025-08-12T14:52:10.659846Z",
     "iopub.status.idle": "2025-08-12T14:52:10.668240Z",
     "shell.execute_reply": "2025-08-12T14:52:10.667490Z",
     "shell.execute_reply.started": "2025-08-12T14:52:10.660116Z"
    },
    "trusted": true
   },
   "outputs": [
    {
     "name": "stdout",
     "output_type": "stream",
     "text": [
      "X shape(2395, 120) , y shape (2395,)\n"
     ]
    }
   ],
   "source": [
    "X, y = np.array(X), np.array(y)\n",
    "print(f\"X shape{X.shape} , y shape { y.shape}\")"
   ]
  },
  {
   "cell_type": "code",
   "execution_count": 7,
   "metadata": {
    "execution": {
     "iopub.execute_input": "2025-08-12T14:52:14.008479Z",
     "iopub.status.busy": "2025-08-12T14:52:14.008135Z",
     "iopub.status.idle": "2025-08-12T14:52:14.012370Z",
     "shell.execute_reply": "2025-08-12T14:52:14.011379Z",
     "shell.execute_reply.started": "2025-08-12T14:52:14.008418Z"
    },
    "trusted": true
   },
   "outputs": [],
   "source": [
    "X_train = X[:train_data_length]\n",
    "y_train =  y[:train_data_length]\n",
    "X_test  =  X[train_data_length:]\n",
    "y_test  =  y[train_data_length:] "
   ]
  },
  {
   "cell_type": "markdown",
   "metadata": {},
   "source": [
    "# Regular LSTM"
   ]
  },
  {
   "cell_type": "code",
   "execution_count": 8,
   "metadata": {
    "execution": {
     "iopub.execute_input": "2025-08-12T14:52:20.416804Z",
     "iopub.status.busy": "2025-08-12T14:52:20.416489Z",
     "iopub.status.idle": "2025-08-12T14:52:22.623458Z",
     "shell.execute_reply": "2025-08-12T14:52:22.622637Z",
     "shell.execute_reply.started": "2025-08-12T14:52:20.416779Z"
    },
    "trusted": true
   },
   "outputs": [
    {
     "data": {
      "text/html": [
       "<pre style=\"white-space:pre;overflow-x:auto;line-height:normal;font-family:Menlo,'DejaVu Sans Mono',consolas,'Courier New',monospace\"><span style=\"font-weight: bold\">Model: \"sequential\"</span>\n",
       "</pre>\n"
      ],
      "text/plain": [
       "\u001b[1mModel: \"sequential\"\u001b[0m\n"
      ]
     },
     "metadata": {},
     "output_type": "display_data"
    },
    {
     "data": {
      "text/html": [
       "<pre style=\"white-space:pre;overflow-x:auto;line-height:normal;font-family:Menlo,'DejaVu Sans Mono',consolas,'Courier New',monospace\">┏━━━━━━━━━━━━━━━━━━━━━━━━━━━━━━━━━┳━━━━━━━━━━━━━━━━━━━━━━━━┳━━━━━━━━━━━━━━━┓\n",
       "┃<span style=\"font-weight: bold\"> Layer (type)                    </span>┃<span style=\"font-weight: bold\"> Output Shape           </span>┃<span style=\"font-weight: bold\">       Param # </span>┃\n",
       "┡━━━━━━━━━━━━━━━━━━━━━━━━━━━━━━━━━╇━━━━━━━━━━━━━━━━━━━━━━━━╇━━━━━━━━━━━━━━━┩\n",
       "│ lstm (<span style=\"color: #0087ff; text-decoration-color: #0087ff\">LSTM</span>)                     │ (<span style=\"color: #00d7ff; text-decoration-color: #00d7ff\">None</span>, <span style=\"color: #00af00; text-decoration-color: #00af00\">120</span>, <span style=\"color: #00af00; text-decoration-color: #00af00\">50</span>)        │        <span style=\"color: #00af00; text-decoration-color: #00af00\">10,400</span> │\n",
       "├─────────────────────────────────┼────────────────────────┼───────────────┤\n",
       "│ lstm_1 (<span style=\"color: #0087ff; text-decoration-color: #0087ff\">LSTM</span>)                   │ (<span style=\"color: #00d7ff; text-decoration-color: #00d7ff\">None</span>, <span style=\"color: #00af00; text-decoration-color: #00af00\">120</span>, <span style=\"color: #00af00; text-decoration-color: #00af00\">25</span>)        │         <span style=\"color: #00af00; text-decoration-color: #00af00\">7,600</span> │\n",
       "├─────────────────────────────────┼────────────────────────┼───────────────┤\n",
       "│ lstm_2 (<span style=\"color: #0087ff; text-decoration-color: #0087ff\">LSTM</span>)                   │ (<span style=\"color: #00d7ff; text-decoration-color: #00d7ff\">None</span>, <span style=\"color: #00af00; text-decoration-color: #00af00\">10</span>)             │         <span style=\"color: #00af00; text-decoration-color: #00af00\">1,440</span> │\n",
       "├─────────────────────────────────┼────────────────────────┼───────────────┤\n",
       "│ dense (<span style=\"color: #0087ff; text-decoration-color: #0087ff\">Dense</span>)                   │ (<span style=\"color: #00d7ff; text-decoration-color: #00d7ff\">None</span>, <span style=\"color: #00af00; text-decoration-color: #00af00\">1</span>)              │            <span style=\"color: #00af00; text-decoration-color: #00af00\">11</span> │\n",
       "└─────────────────────────────────┴────────────────────────┴───────────────┘\n",
       "</pre>\n"
      ],
      "text/plain": [
       "┏━━━━━━━━━━━━━━━━━━━━━━━━━━━━━━━━━┳━━━━━━━━━━━━━━━━━━━━━━━━┳━━━━━━━━━━━━━━━┓\n",
       "┃\u001b[1m \u001b[0m\u001b[1mLayer (type)                   \u001b[0m\u001b[1m \u001b[0m┃\u001b[1m \u001b[0m\u001b[1mOutput Shape          \u001b[0m\u001b[1m \u001b[0m┃\u001b[1m \u001b[0m\u001b[1m      Param #\u001b[0m\u001b[1m \u001b[0m┃\n",
       "┡━━━━━━━━━━━━━━━━━━━━━━━━━━━━━━━━━╇━━━━━━━━━━━━━━━━━━━━━━━━╇━━━━━━━━━━━━━━━┩\n",
       "│ lstm (\u001b[38;5;33mLSTM\u001b[0m)                     │ (\u001b[38;5;45mNone\u001b[0m, \u001b[38;5;34m120\u001b[0m, \u001b[38;5;34m50\u001b[0m)        │        \u001b[38;5;34m10,400\u001b[0m │\n",
       "├─────────────────────────────────┼────────────────────────┼───────────────┤\n",
       "│ lstm_1 (\u001b[38;5;33mLSTM\u001b[0m)                   │ (\u001b[38;5;45mNone\u001b[0m, \u001b[38;5;34m120\u001b[0m, \u001b[38;5;34m25\u001b[0m)        │         \u001b[38;5;34m7,600\u001b[0m │\n",
       "├─────────────────────────────────┼────────────────────────┼───────────────┤\n",
       "│ lstm_2 (\u001b[38;5;33mLSTM\u001b[0m)                   │ (\u001b[38;5;45mNone\u001b[0m, \u001b[38;5;34m10\u001b[0m)             │         \u001b[38;5;34m1,440\u001b[0m │\n",
       "├─────────────────────────────────┼────────────────────────┼───────────────┤\n",
       "│ dense (\u001b[38;5;33mDense\u001b[0m)                   │ (\u001b[38;5;45mNone\u001b[0m, \u001b[38;5;34m1\u001b[0m)              │            \u001b[38;5;34m11\u001b[0m │\n",
       "└─────────────────────────────────┴────────────────────────┴───────────────┘\n"
      ]
     },
     "metadata": {},
     "output_type": "display_data"
    },
    {
     "data": {
      "text/html": [
       "<pre style=\"white-space:pre;overflow-x:auto;line-height:normal;font-family:Menlo,'DejaVu Sans Mono',consolas,'Courier New',monospace\"><span style=\"font-weight: bold\"> Total params: </span><span style=\"color: #00af00; text-decoration-color: #00af00\">19,451</span> (75.98 KB)\n",
       "</pre>\n"
      ],
      "text/plain": [
       "\u001b[1m Total params: \u001b[0m\u001b[38;5;34m19,451\u001b[0m (75.98 KB)\n"
      ]
     },
     "metadata": {},
     "output_type": "display_data"
    },
    {
     "data": {
      "text/html": [
       "<pre style=\"white-space:pre;overflow-x:auto;line-height:normal;font-family:Menlo,'DejaVu Sans Mono',consolas,'Courier New',monospace\"><span style=\"font-weight: bold\"> Trainable params: </span><span style=\"color: #00af00; text-decoration-color: #00af00\">19,451</span> (75.98 KB)\n",
       "</pre>\n"
      ],
      "text/plain": [
       "\u001b[1m Trainable params: \u001b[0m\u001b[38;5;34m19,451\u001b[0m (75.98 KB)\n"
      ]
     },
     "metadata": {},
     "output_type": "display_data"
    },
    {
     "data": {
      "text/html": [
       "<pre style=\"white-space:pre;overflow-x:auto;line-height:normal;font-family:Menlo,'DejaVu Sans Mono',consolas,'Courier New',monospace\"><span style=\"font-weight: bold\"> Non-trainable params: </span><span style=\"color: #00af00; text-decoration-color: #00af00\">0</span> (0.00 B)\n",
       "</pre>\n"
      ],
      "text/plain": [
       "\u001b[1m Non-trainable params: \u001b[0m\u001b[38;5;34m0\u001b[0m (0.00 B)\n"
      ]
     },
     "metadata": {},
     "output_type": "display_data"
    }
   ],
   "source": [
    "\n",
    "epochs = 50\n",
    "batch = 32\n",
    "lr = 0.0001\n",
    "lstm_model = Sequential()\n",
    "lstm_model.add(Layer.LSTM(50, input_shape=( 120, 1), return_sequences=True))\n",
    "lstm_model.add(Layer.LSTM(25, activation='tanh', return_sequences=True))\n",
    "lstm_model.add(Layer.LSTM(10, activation='tanh'))\n",
    "lstm_model.add(Layer.Dense(1))\n",
    "lstm_model.summary()"
   ]
  },
  {
   "cell_type": "code",
   "execution_count": 9,
   "metadata": {
    "execution": {
     "iopub.execute_input": "2025-08-12T14:52:34.334578Z",
     "iopub.status.busy": "2025-08-12T14:52:34.334244Z",
     "iopub.status.idle": "2025-08-12T14:52:34.350001Z",
     "shell.execute_reply": "2025-08-12T14:52:34.349231Z",
     "shell.execute_reply.started": "2025-08-12T14:52:34.334551Z"
    },
    "trusted": true
   },
   "outputs": [],
   "source": [
    "cp1 = ModelCheckpoint('/kaggle/working/model.keras', save_best_only=True)\n",
    "\n",
    "lstm_model.compile(loss=MeanSquaredError(), optimizer=optimizers.Adam(learning_rate=lr), metrics=[RootMeanSquaredError()])"
   ]
  },
  {
   "cell_type": "code",
   "execution_count": 10,
   "metadata": {
    "execution": {
     "iopub.execute_input": "2025-08-12T14:52:37.383401Z",
     "iopub.status.busy": "2025-08-12T14:52:37.383049Z",
     "iopub.status.idle": "2025-08-12T14:53:35.912776Z",
     "shell.execute_reply": "2025-08-12T14:53:35.911828Z",
     "shell.execute_reply.started": "2025-08-12T14:52:37.383365Z"
    },
    "trusted": true
   },
   "outputs": [
    {
     "name": "stdout",
     "output_type": "stream",
     "text": [
      "Epoch 1/50\n",
      "\u001b[1m60/60\u001b[0m \u001b[32m━━━━━━━━━━━━━━━━━━━━\u001b[0m\u001b[37m\u001b[0m \u001b[1m39s\u001b[0m 289ms/step - loss: 0.0462 - root_mean_squared_error: 0.2150 - val_loss: 0.0078 - val_root_mean_squared_error: 0.0886\n",
      "Epoch 2/50\n",
      "\u001b[1m60/60\u001b[0m \u001b[32m━━━━━━━━━━━━━━━━━━━━\u001b[0m\u001b[37m\u001b[0m \u001b[1m18s\u001b[0m 241ms/step - loss: 0.0052 - root_mean_squared_error: 0.0724 - val_loss: 0.0019 - val_root_mean_squared_error: 0.0438\n",
      "Epoch 3/50\n",
      "\u001b[1m60/60\u001b[0m \u001b[32m━━━━━━━━━━━━━━━━━━━━\u001b[0m\u001b[37m\u001b[0m \u001b[1m7s\u001b[0m 120ms/step - loss: 0.0024 - root_mean_squared_error: 0.0491 - val_loss: 0.0022 - val_root_mean_squared_error: 0.0468\n",
      "Epoch 4/50\n",
      "\u001b[1m60/60\u001b[0m \u001b[32m━━━━━━━━━━━━━━━━━━━━\u001b[0m\u001b[37m\u001b[0m \u001b[1m8s\u001b[0m 125ms/step - loss: 0.0021 - root_mean_squared_error: 0.0463 - val_loss: 0.0020 - val_root_mean_squared_error: 0.0447\n",
      "Epoch 5/50\n",
      "\u001b[1m60/60\u001b[0m \u001b[32m━━━━━━━━━━━━━━━━━━━━\u001b[0m\u001b[37m\u001b[0m \u001b[1m8s\u001b[0m 139ms/step - loss: 0.0020 - root_mean_squared_error: 0.0449 - val_loss: 0.0019 - val_root_mean_squared_error: 0.0433\n",
      "Epoch 6/50\n",
      "\u001b[1m60/60\u001b[0m \u001b[32m━━━━━━━━━━━━━━━━━━━━\u001b[0m\u001b[37m\u001b[0m \u001b[1m9s\u001b[0m 149ms/step - loss: 0.0019 - root_mean_squared_error: 0.0434 - val_loss: 0.0017 - val_root_mean_squared_error: 0.0408\n",
      "Epoch 7/50\n",
      "\u001b[1m60/60\u001b[0m \u001b[32m━━━━━━━━━━━━━━━━━━━━\u001b[0m\u001b[37m\u001b[0m \u001b[1m9s\u001b[0m 142ms/step - loss: 0.0018 - root_mean_squared_error: 0.0422 - val_loss: 0.0016 - val_root_mean_squared_error: 0.0400\n",
      "Epoch 8/50\n",
      "\u001b[1m60/60\u001b[0m \u001b[32m━━━━━━━━━━━━━━━━━━━━\u001b[0m\u001b[37m\u001b[0m \u001b[1m7s\u001b[0m 112ms/step - loss: 0.0017 - root_mean_squared_error: 0.0409 - val_loss: 0.0019 - val_root_mean_squared_error: 0.0434\n",
      "Epoch 9/50\n",
      "\u001b[1m60/60\u001b[0m \u001b[32m━━━━━━━━━━━━━━━━━━━━\u001b[0m\u001b[37m\u001b[0m \u001b[1m7s\u001b[0m 120ms/step - loss: 0.0016 - root_mean_squared_error: 0.0397 - val_loss: 0.0019 - val_root_mean_squared_error: 0.0435\n",
      "Epoch 10/50\n",
      "\u001b[1m60/60\u001b[0m \u001b[32m━━━━━━━━━━━━━━━━━━━━\u001b[0m\u001b[37m\u001b[0m \u001b[1m7s\u001b[0m 109ms/step - loss: 0.0015 - root_mean_squared_error: 0.0386 - val_loss: 0.0023 - val_root_mean_squared_error: 0.0483\n",
      "Epoch 11/50\n",
      "\u001b[1m60/60\u001b[0m \u001b[32m━━━━━━━━━━━━━━━━━━━━\u001b[0m\u001b[37m\u001b[0m \u001b[1m8s\u001b[0m 136ms/step - loss: 0.0014 - root_mean_squared_error: 0.0377 - val_loss: 0.0019 - val_root_mean_squared_error: 0.0438\n",
      "Epoch 12/50\n",
      "\u001b[1m60/60\u001b[0m \u001b[32m━━━━━━━━━━━━━━━━━━━━\u001b[0m\u001b[37m\u001b[0m \u001b[1m9s\u001b[0m 143ms/step - loss: 0.0014 - root_mean_squared_error: 0.0368 - val_loss: 0.0030 - val_root_mean_squared_error: 0.0544\n",
      "Epoch 13/50\n",
      "\u001b[1m60/60\u001b[0m \u001b[32m━━━━━━━━━━━━━━━━━━━━\u001b[0m\u001b[37m\u001b[0m \u001b[1m8s\u001b[0m 127ms/step - loss: 0.0013 - root_mean_squared_error: 0.0363 - val_loss: 0.0013 - val_root_mean_squared_error: 0.0361\n",
      "Epoch 14/50\n",
      "\u001b[1m60/60\u001b[0m \u001b[32m━━━━━━━━━━━━━━━━━━━━\u001b[0m\u001b[37m\u001b[0m \u001b[1m7s\u001b[0m 123ms/step - loss: 0.0013 - root_mean_squared_error: 0.0354 - val_loss: 0.0014 - val_root_mean_squared_error: 0.0371\n",
      "Epoch 15/50\n",
      "\u001b[1m60/60\u001b[0m \u001b[32m━━━━━━━━━━━━━━━━━━━━\u001b[0m\u001b[37m\u001b[0m \u001b[1m7s\u001b[0m 123ms/step - loss: 0.0012 - root_mean_squared_error: 0.0348 - val_loss: 0.0015 - val_root_mean_squared_error: 0.0383\n",
      "Epoch 16/50\n",
      "\u001b[1m60/60\u001b[0m \u001b[32m━━━━━━━━━━━━━━━━━━━━\u001b[0m\u001b[37m\u001b[0m \u001b[1m8s\u001b[0m 141ms/step - loss: 0.0012 - root_mean_squared_error: 0.0346 - val_loss: 0.0016 - val_root_mean_squared_error: 0.0400\n",
      "Epoch 17/50\n",
      "\u001b[1m60/60\u001b[0m \u001b[32m━━━━━━━━━━━━━━━━━━━━\u001b[0m\u001b[37m\u001b[0m \u001b[1m9s\u001b[0m 149ms/step - loss: 0.0012 - root_mean_squared_error: 0.0343 - val_loss: 0.0017 - val_root_mean_squared_error: 0.0416\n",
      "Epoch 18/50\n",
      "\u001b[1m60/60\u001b[0m \u001b[32m━━━━━━━━━━━━━━━━━━━━\u001b[0m\u001b[37m\u001b[0m \u001b[1m9s\u001b[0m 152ms/step - loss: 0.0011 - root_mean_squared_error: 0.0338 - val_loss: 0.0013 - val_root_mean_squared_error: 0.0355\n",
      "Epoch 19/50\n",
      "\u001b[1m60/60\u001b[0m \u001b[32m━━━━━━━━━━━━━━━━━━━━\u001b[0m\u001b[37m\u001b[0m \u001b[1m11s\u001b[0m 186ms/step - loss: 0.0011 - root_mean_squared_error: 0.0334 - val_loss: 0.0018 - val_root_mean_squared_error: 0.0420\n",
      "Epoch 20/50\n",
      "\u001b[1m60/60\u001b[0m \u001b[32m━━━━━━━━━━━━━━━━━━━━\u001b[0m\u001b[37m\u001b[0m \u001b[1m8s\u001b[0m 127ms/step - loss: 0.0011 - root_mean_squared_error: 0.0338 - val_loss: 0.0012 - val_root_mean_squared_error: 0.0348\n",
      "Epoch 21/50\n",
      "\u001b[1m60/60\u001b[0m \u001b[32m━━━━━━━━━━━━━━━━━━━━\u001b[0m\u001b[37m\u001b[0m \u001b[1m9s\u001b[0m 153ms/step - loss: 0.0011 - root_mean_squared_error: 0.0331 - val_loss: 0.0012 - val_root_mean_squared_error: 0.0340\n",
      "Epoch 22/50\n",
      "\u001b[1m60/60\u001b[0m \u001b[32m━━━━━━━━━━━━━━━━━━━━\u001b[0m\u001b[37m\u001b[0m \u001b[1m10s\u001b[0m 169ms/step - loss: 0.0011 - root_mean_squared_error: 0.0328 - val_loss: 0.0014 - val_root_mean_squared_error: 0.0376\n",
      "Epoch 23/50\n",
      "\u001b[1m60/60\u001b[0m \u001b[32m━━━━━━━━━━━━━━━━━━━━\u001b[0m\u001b[37m\u001b[0m \u001b[1m8s\u001b[0m 133ms/step - loss: 0.0010 - root_mean_squared_error: 0.0323 - val_loss: 0.0011 - val_root_mean_squared_error: 0.0337\n",
      "Epoch 24/50\n",
      "\u001b[1m60/60\u001b[0m \u001b[32m━━━━━━━━━━━━━━━━━━━━\u001b[0m\u001b[37m\u001b[0m \u001b[1m9s\u001b[0m 144ms/step - loss: 0.0010 - root_mean_squared_error: 0.0317 - val_loss: 0.0012 - val_root_mean_squared_error: 0.0343\n",
      "Epoch 25/50\n",
      "\u001b[1m60/60\u001b[0m \u001b[32m━━━━━━━━━━━━━━━━━━━━\u001b[0m\u001b[37m\u001b[0m \u001b[1m9s\u001b[0m 143ms/step - loss: 9.9418e-04 - root_mean_squared_error: 0.0315 - val_loss: 0.0011 - val_root_mean_squared_error: 0.0334\n",
      "Epoch 26/50\n",
      "\u001b[1m60/60\u001b[0m \u001b[32m━━━━━━━━━━━━━━━━━━━━\u001b[0m\u001b[37m\u001b[0m \u001b[1m8s\u001b[0m 126ms/step - loss: 9.6524e-04 - root_mean_squared_error: 0.0311 - val_loss: 0.0013 - val_root_mean_squared_error: 0.0354\n",
      "Epoch 27/50\n",
      "\u001b[1m60/60\u001b[0m \u001b[32m━━━━━━━━━━━━━━━━━━━━\u001b[0m\u001b[37m\u001b[0m \u001b[1m7s\u001b[0m 114ms/step - loss: 9.2932e-04 - root_mean_squared_error: 0.0305 - val_loss: 0.0012 - val_root_mean_squared_error: 0.0340\n",
      "Epoch 28/50\n",
      "\u001b[1m60/60\u001b[0m \u001b[32m━━━━━━━━━━━━━━━━━━━━\u001b[0m\u001b[37m\u001b[0m \u001b[1m8s\u001b[0m 130ms/step - loss: 9.3253e-04 - root_mean_squared_error: 0.0305 - val_loss: 0.0011 - val_root_mean_squared_error: 0.0335\n",
      "Epoch 29/50\n",
      "\u001b[1m60/60\u001b[0m \u001b[32m━━━━━━━━━━━━━━━━━━━━\u001b[0m\u001b[37m\u001b[0m \u001b[1m9s\u001b[0m 148ms/step - loss: 9.1712e-04 - root_mean_squared_error: 0.0303 - val_loss: 0.0011 - val_root_mean_squared_error: 0.0324\n",
      "Epoch 30/50\n",
      "\u001b[1m60/60\u001b[0m \u001b[32m━━━━━━━━━━━━━━━━━━━━\u001b[0m\u001b[37m\u001b[0m \u001b[1m8s\u001b[0m 129ms/step - loss: 8.9869e-04 - root_mean_squared_error: 0.0300 - val_loss: 0.0014 - val_root_mean_squared_error: 0.0378\n",
      "Epoch 31/50\n",
      "\u001b[1m60/60\u001b[0m \u001b[32m━━━━━━━━━━━━━━━━━━━━\u001b[0m\u001b[37m\u001b[0m \u001b[1m8s\u001b[0m 135ms/step - loss: 8.9075e-04 - root_mean_squared_error: 0.0298 - val_loss: 0.0014 - val_root_mean_squared_error: 0.0378\n",
      "Epoch 32/50\n",
      "\u001b[1m60/60\u001b[0m \u001b[32m━━━━━━━━━━━━━━━━━━━━\u001b[0m\u001b[37m\u001b[0m \u001b[1m10s\u001b[0m 158ms/step - loss: 8.7414e-04 - root_mean_squared_error: 0.0296 - val_loss: 0.0018 - val_root_mean_squared_error: 0.0429\n",
      "Epoch 33/50\n",
      "\u001b[1m60/60\u001b[0m \u001b[32m━━━━━━━━━━━━━━━━━━━━\u001b[0m\u001b[37m\u001b[0m \u001b[1m7s\u001b[0m 118ms/step - loss: 9.3400e-04 - root_mean_squared_error: 0.0306 - val_loss: 0.0011 - val_root_mean_squared_error: 0.0329\n",
      "Epoch 34/50\n",
      "\u001b[1m60/60\u001b[0m \u001b[32m━━━━━━━━━━━━━━━━━━━━\u001b[0m\u001b[37m\u001b[0m \u001b[1m8s\u001b[0m 128ms/step - loss: 8.3830e-04 - root_mean_squared_error: 0.0290 - val_loss: 0.0011 - val_root_mean_squared_error: 0.0326\n",
      "Epoch 35/50\n",
      "\u001b[1m60/60\u001b[0m \u001b[32m━━━━━━━━━━━━━━━━━━━━\u001b[0m\u001b[37m\u001b[0m \u001b[1m8s\u001b[0m 139ms/step - loss: 8.3613e-04 - root_mean_squared_error: 0.0289 - val_loss: 0.0015 - val_root_mean_squared_error: 0.0382\n",
      "Epoch 36/50\n",
      "\u001b[1m60/60\u001b[0m \u001b[32m━━━━━━━━━━━━━━━━━━━━\u001b[0m\u001b[37m\u001b[0m \u001b[1m8s\u001b[0m 134ms/step - loss: 8.2361e-04 - root_mean_squared_error: 0.0287 - val_loss: 0.0012 - val_root_mean_squared_error: 0.0343\n",
      "Epoch 37/50\n",
      "\u001b[1m60/60\u001b[0m \u001b[32m━━━━━━━━━━━━━━━━━━━━\u001b[0m\u001b[37m\u001b[0m \u001b[1m8s\u001b[0m 132ms/step - loss: 8.0855e-04 - root_mean_squared_error: 0.0284 - val_loss: 0.0011 - val_root_mean_squared_error: 0.0330\n",
      "Epoch 38/50\n",
      "\u001b[1m60/60\u001b[0m \u001b[32m━━━━━━━━━━━━━━━━━━━━\u001b[0m\u001b[37m\u001b[0m \u001b[1m8s\u001b[0m 129ms/step - loss: 7.8998e-04 - root_mean_squared_error: 0.0281 - val_loss: 0.0014 - val_root_mean_squared_error: 0.0378\n",
      "Epoch 39/50\n",
      "\u001b[1m60/60\u001b[0m \u001b[32m━━━━━━━━━━━━━━━━━━━━\u001b[0m\u001b[37m\u001b[0m \u001b[1m8s\u001b[0m 131ms/step - loss: 8.0527e-04 - root_mean_squared_error: 0.0284 - val_loss: 9.9156e-04 - val_root_mean_squared_error: 0.0315\n",
      "Epoch 40/50\n",
      "\u001b[1m60/60\u001b[0m \u001b[32m━━━━━━━━━━━━━━━━━━━━\u001b[0m\u001b[37m\u001b[0m \u001b[1m7s\u001b[0m 124ms/step - loss: 7.7902e-04 - root_mean_squared_error: 0.0279 - val_loss: 0.0010 - val_root_mean_squared_error: 0.0317\n",
      "Epoch 41/50\n",
      "\u001b[1m60/60\u001b[0m \u001b[32m━━━━━━━━━━━━━━━━━━━━\u001b[0m\u001b[37m\u001b[0m \u001b[1m8s\u001b[0m 134ms/step - loss: 7.5726e-04 - root_mean_squared_error: 0.0275 - val_loss: 9.7544e-04 - val_root_mean_squared_error: 0.0312\n",
      "Epoch 42/50\n",
      "\u001b[1m60/60\u001b[0m \u001b[32m━━━━━━━━━━━━━━━━━━━━\u001b[0m\u001b[37m\u001b[0m \u001b[1m8s\u001b[0m 137ms/step - loss: 7.4667e-04 - root_mean_squared_error: 0.0273 - val_loss: 9.1956e-04 - val_root_mean_squared_error: 0.0303\n",
      "Epoch 43/50\n",
      "\u001b[1m60/60\u001b[0m \u001b[32m━━━━━━━━━━━━━━━━━━━━\u001b[0m\u001b[37m\u001b[0m \u001b[1m8s\u001b[0m 138ms/step - loss: 7.3857e-04 - root_mean_squared_error: 0.0272 - val_loss: 9.5954e-04 - val_root_mean_squared_error: 0.0310\n",
      "Epoch 44/50\n",
      "\u001b[1m60/60\u001b[0m \u001b[32m━━━━━━━━━━━━━━━━━━━━\u001b[0m\u001b[37m\u001b[0m \u001b[1m8s\u001b[0m 136ms/step - loss: 7.3666e-04 - root_mean_squared_error: 0.0271 - val_loss: 9.0495e-04 - val_root_mean_squared_error: 0.0301\n",
      "Epoch 45/50\n",
      "\u001b[1m60/60\u001b[0m \u001b[32m━━━━━━━━━━━━━━━━━━━━\u001b[0m\u001b[37m\u001b[0m \u001b[1m10s\u001b[0m 158ms/step - loss: 7.3298e-04 - root_mean_squared_error: 0.0271 - val_loss: 9.6557e-04 - val_root_mean_squared_error: 0.0311\n",
      "Epoch 46/50\n",
      "\u001b[1m60/60\u001b[0m \u001b[32m━━━━━━━━━━━━━━━━━━━━\u001b[0m\u001b[37m\u001b[0m \u001b[1m9s\u001b[0m 152ms/step - loss: 7.1562e-04 - root_mean_squared_error: 0.0268 - val_loss: 8.6277e-04 - val_root_mean_squared_error: 0.0294\n",
      "Epoch 47/50\n",
      "\u001b[1m60/60\u001b[0m \u001b[32m━━━━━━━━━━━━━━━━━━━━\u001b[0m\u001b[37m\u001b[0m \u001b[1m11s\u001b[0m 187ms/step - loss: 7.0432e-04 - root_mean_squared_error: 0.0265 - val_loss: 9.9044e-04 - val_root_mean_squared_error: 0.0315\n",
      "Epoch 48/50\n",
      "\u001b[1m60/60\u001b[0m \u001b[32m━━━━━━━━━━━━━━━━━━━━\u001b[0m\u001b[37m\u001b[0m \u001b[1m8s\u001b[0m 127ms/step - loss: 6.8880e-04 - root_mean_squared_error: 0.0262 - val_loss: 9.4707e-04 - val_root_mean_squared_error: 0.0308\n",
      "Epoch 49/50\n",
      "\u001b[1m60/60\u001b[0m \u001b[32m━━━━━━━━━━━━━━━━━━━━\u001b[0m\u001b[37m\u001b[0m \u001b[1m8s\u001b[0m 137ms/step - loss: 6.9304e-04 - root_mean_squared_error: 0.0263 - val_loss: 9.4195e-04 - val_root_mean_squared_error: 0.0307\n",
      "Epoch 50/50\n",
      "\u001b[1m60/60\u001b[0m \u001b[32m━━━━━━━━━━━━━━━━━━━━\u001b[0m\u001b[37m\u001b[0m \u001b[1m8s\u001b[0m 135ms/step - loss: 6.6920e-04 - root_mean_squared_error: 0.0259 - val_loss: 9.5389e-04 - val_root_mean_squared_error: 0.0309\n"
     ]
    },
    {
     "data": {
      "text/plain": [
       "<keras.src.callbacks.history.History at 0x2268c47eba0>"
      ]
     },
     "execution_count": 10,
     "metadata": {},
     "output_type": "execute_result"
    }
   ],
   "source": [
    "lstm_model.fit(X_train, y_train, epochs=epochs, batch_size=batch, validation_split=0.1 , verbose=1 )"
   ]
  },
  {
   "cell_type": "code",
   "execution_count": 11,
   "metadata": {
    "execution": {
     "iopub.execute_input": "2025-08-12T14:53:39.460127Z",
     "iopub.status.busy": "2025-08-12T14:53:39.459794Z",
     "iopub.status.idle": "2025-08-12T14:53:40.059911Z",
     "shell.execute_reply": "2025-08-12T14:53:40.059166Z",
     "shell.execute_reply.started": "2025-08-12T14:53:39.460099Z"
    },
    "trusted": true
   },
   "outputs": [
    {
     "name": "stdout",
     "output_type": "stream",
     "text": [
      "\u001b[1m67/67\u001b[0m \u001b[32m━━━━━━━━━━━━━━━━━━━━\u001b[0m\u001b[37m\u001b[0m \u001b[1m3s\u001b[0m 46ms/step - loss: 6.8986e-04 - root_mean_squared_error: 0.0263\n"
     ]
    },
    {
     "data": {
      "text/plain": [
       "[0.0006898572901263833, 0.026265135034918785]"
      ]
     },
     "execution_count": 11,
     "metadata": {},
     "output_type": "execute_result"
    }
   ],
   "source": [
    "lstm_model.evaluate(X_train, y_train)"
   ]
  },
  {
   "cell_type": "code",
   "execution_count": 12,
   "metadata": {
    "execution": {
     "iopub.execute_input": "2025-08-12T14:53:47.787503Z",
     "iopub.status.busy": "2025-08-12T14:53:47.787203Z",
     "iopub.status.idle": "2025-08-12T14:53:48.325700Z",
     "shell.execute_reply": "2025-08-12T14:53:48.324992Z",
     "shell.execute_reply.started": "2025-08-12T14:53:47.787480Z"
    },
    "trusted": true
   },
   "outputs": [
    {
     "name": "stdout",
     "output_type": "stream",
     "text": [
      "\u001b[1m9/9\u001b[0m \u001b[32m━━━━━━━━━━━━━━━━━━━━\u001b[0m\u001b[37m\u001b[0m \u001b[1m2s\u001b[0m 120ms/step\n"
     ]
    }
   ],
   "source": [
    "Predicted = lstm_model.predict(X_test)\n",
    "Actual = y_test"
   ]
  },
  {
   "cell_type": "code",
   "execution_count": 13,
   "metadata": {},
   "outputs": [
    {
     "name": "stdout",
     "output_type": "stream",
     "text": [
      "Actual Shape: (282,)\n",
      "Predicted Shape: (282, 1)\n"
     ]
    }
   ],
   "source": [
    "print(\"Actual Shape:\", Actual.shape)\n",
    "print(\"Predicted Shape:\", Predicted.shape)"
   ]
  },
  {
   "cell_type": "code",
   "execution_count": 14,
   "metadata": {},
   "outputs": [],
   "source": [
    "Actual = Actual.reshape(-1)\n",
    "Predicted = Predicted.reshape(-1)"
   ]
  },
  {
   "cell_type": "code",
   "execution_count": 15,
   "metadata": {
    "execution": {
     "iopub.execute_input": "2025-08-12T14:54:40.737982Z",
     "iopub.status.busy": "2025-08-12T14:54:40.737684Z",
     "iopub.status.idle": "2025-08-12T14:54:41.280292Z",
     "shell.execute_reply": "2025-08-12T14:54:41.279493Z",
     "shell.execute_reply.started": "2025-08-12T14:54:40.737959Z"
    },
    "trusted": true
   },
   "outputs": [
    {
     "data": {
      "image/png": "[encoded data removed]",
      "text/plain": [
       "<Figure size 1400x700 with 1 Axes>"
      ]
     },
     "metadata": {},
     "output_type": "display_data"
    }
   ],
   "source": [
    "date_range = pd.date_range(start='2024-01-01', periods=len(Actual), freq='D')\n",
    "plt.figure(figsize=(14, 7))\n",
    "plt.plot(date_range, Actual, label='Actual Values', color='blue', linewidth=2)\n",
    "plt.plot(date_range, Predicted, label='Predicted Values', color='red', linestyle='--', linewidth=2)\n",
    "plt.title('Actual vs Predicted Values')\n",
    "plt.xlabel('Date')\n",
    "plt.ylabel('Sensor Measurement')\n",
    "plt.legend()\n",
    "plt.grid()\n",
    "\n",
    "plt.show()"
   ]
  },
  {
   "cell_type": "code",
   "execution_count": 16,
   "metadata": {},
   "outputs": [
    {
     "data": {
      "text/plain": [
       "(282,)"
      ]
     },
     "execution_count": 16,
     "metadata": {},
     "output_type": "execute_result"
    }
   ],
   "source": [
    "Predicted.shape"
   ]
  },
  {
   "cell_type": "markdown",
   "metadata": {},
   "source": [
    "# Evaluate"
   ]
  },
  {
   "cell_type": "code",
   "execution_count": 17,
   "metadata": {
    "execution": {
     "iopub.execute_input": "2025-08-12T15:08:54.635953Z",
     "iopub.status.busy": "2025-08-12T15:08:54.635670Z",
     "iopub.status.idle": "2025-08-12T15:08:54.654992Z",
     "shell.execute_reply": "2025-08-12T15:08:54.653890Z",
     "shell.execute_reply.started": "2025-08-12T15:08:54.635931Z"
    },
    "trusted": true
   },
   "outputs": [
    {
     "name": "stdout",
     "output_type": "stream",
     "text": [
      "LSTM Performance:\n",
      "MAE: 0.0400\n",
      "RMSE: 0.0524\n",
      "MAPE: 6.68%\n"
     ]
    }
   ],
   "source": [
    "def mean_absolute_percentage_error(y_true, y_pred): \n",
    "    y_true, y_pred = np.array(y_true), np.array(y_pred)\n",
    "    return np.mean(np.abs((y_true - y_pred) / y_true)) * 100\n",
    "\n",
    "\n",
    "mae_lstm = mean_absolute_error(Actual, Predicted)\n",
    "rmse_lstm = np.sqrt(mean_squared_error(Actual, Predicted))\n",
    "mape_lstm = mean_absolute_percentage_error(Actual, Predicted)\n",
    "\n",
    "\n",
    "print(\"LSTM Performance:\")\n",
    "print(f\"MAE: {mae_lstm:.4f}\")\n",
    "print(f\"RMSE: {rmse_lstm:.4f}\")\n",
    "print(f\"MAPE: {mape_lstm:.2f}%\")"
   ]
  },
  {
   "cell_type": "markdown",
   "metadata": {},
   "source": [
    "* Save the  model"
   ]
  },
  {
   "cell_type": "code",
   "execution_count": 18,
   "metadata": {
    "execution": {
     "iopub.execute_input": "2025-08-12T15:10:25.629503Z",
     "iopub.status.busy": "2025-08-12T15:10:25.629151Z",
     "iopub.status.idle": "2025-08-12T15:10:25.686797Z",
     "shell.execute_reply": "2025-08-12T15:10:25.685933Z",
     "shell.execute_reply.started": "2025-08-12T15:10:25.629475Z"
    },
    "trusted": true
   },
   "outputs": [],
   "source": [
    "import pickle\n",
    "\n",
    "with open('../model/lstm_model.pkl', 'wb') as f:\n",
    "    pickle.dump(lstm_model, f)"
   ]
  }
 ],
 "metadata": {
  "kaggle": {
   "accelerator": "gpu",
   "dataSources": [
    {
     "datasetId": 8056041,
     "sourceId": 12744007,
     "sourceType": "datasetVersion"
    }
   ],
   "dockerImageVersionId": 30919,
   "isGpuEnabled": true,
   "isInternetEnabled": true,
   "language": "python",
   "sourceType": "notebook"
  },
  "kernelspec": {
   "display_name": "venv",
   "language": "python",
   "name": "python3"
  },
  "language_info": {
   "codemirror_mode": {
    "name": "ipython",
    "version": 3
   },
   "file_extension": ".py",
   "mimetype": "text/x-python",
   "name": "python",
   "nbconvert_exporter": "python",
   "pygments_lexer": "ipython3",
   "version": "3.13.5"
  }
 },
 "nbformat": 4,
 "nbformat_minor": 4
}
