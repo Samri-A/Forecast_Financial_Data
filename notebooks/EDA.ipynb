{
 "cells": [
  {
   "cell_type": "code",
   "execution_count": 1,
   "id": "c6a3ec29",
   "metadata": {},
   "outputs": [],
   "source": [
    "import pandas as pd\n",
    "import matplotlib.pyplot as plt\n",
    "from  sklearn.preprocessing import MinMaxScaler \n",
    "from scipy import stats\n",
    "import numpy as np\n",
    "from statsmodels.tsa.stattools import adfuller"
   ]
  },
  {
   "cell_type": "code",
   "execution_count": 2,
   "id": "ef942a8d",
   "metadata": {},
   "outputs": [],
   "source": [
    "TSLA_df = pd.read_csv(\"../data/TSLA_10years_data.csv\")\n",
    "SPY_df = pd.read_csv(\"../data/SPY_10years_data.csv\")\n",
    "BND_df = pd.read_csv(\"../data/BND_10years_data.csv\")"
   ]
  },
  {
   "cell_type": "markdown",
   "id": "b57b73de",
   "metadata": {},
   "source": [
    "* Basic statistics to understand the distribution of the data."
   ]
  },
  {
   "cell_type": "code",
   "execution_count": 3,
   "id": "1199e399",
   "metadata": {},
   "outputs": [
    {
     "data": {
      "text/html": [
       "<div>\n",
       "<style scoped>\n",
       "    .dataframe tbody tr th:only-of-type {\n",
       "        vertical-align: middle;\n",
       "    }\n",
       "\n",
       "    .dataframe tbody tr th {\n",
       "        vertical-align: top;\n",
       "    }\n",
       "\n",
       "    .dataframe thead th {\n",
       "        text-align: right;\n",
       "    }\n",
       "</style>\n",
       "<table border=\"1\" class=\"dataframe\">\n",
       "  <thead>\n",
       "    <tr style=\"text-align: right;\">\n",
       "      <th></th>\n",
       "      <th>Open</th>\n",
       "      <th>High</th>\n",
       "      <th>Low</th>\n",
       "      <th>Close</th>\n",
       "      <th>Volume</th>\n",
       "      <th>Dividends</th>\n",
       "      <th>Stock Splits</th>\n",
       "    </tr>\n",
       "  </thead>\n",
       "  <tbody>\n",
       "    <tr>\n",
       "      <th>count</th>\n",
       "      <td>2515.000000</td>\n",
       "      <td>2515.000000</td>\n",
       "      <td>2515.000000</td>\n",
       "      <td>2515.000000</td>\n",
       "      <td>2.515000e+03</td>\n",
       "      <td>2515.0</td>\n",
       "      <td>2515.000000</td>\n",
       "    </tr>\n",
       "    <tr>\n",
       "      <th>mean</th>\n",
       "      <td>133.732657</td>\n",
       "      <td>136.729599</td>\n",
       "      <td>130.533528</td>\n",
       "      <td>133.697908</td>\n",
       "      <td>1.146432e+08</td>\n",
       "      <td>0.0</td>\n",
       "      <td>0.003181</td>\n",
       "    </tr>\n",
       "    <tr>\n",
       "      <th>std</th>\n",
       "      <td>121.301286</td>\n",
       "      <td>124.050445</td>\n",
       "      <td>118.267514</td>\n",
       "      <td>121.186898</td>\n",
       "      <td>7.332354e+07</td>\n",
       "      <td>0.0</td>\n",
       "      <td>0.116250</td>\n",
       "    </tr>\n",
       "    <tr>\n",
       "      <th>min</th>\n",
       "      <td>9.488000</td>\n",
       "      <td>10.331333</td>\n",
       "      <td>9.403333</td>\n",
       "      <td>9.578000</td>\n",
       "      <td>1.062000e+07</td>\n",
       "      <td>0.0</td>\n",
       "      <td>0.000000</td>\n",
       "    </tr>\n",
       "    <tr>\n",
       "      <th>25%</th>\n",
       "      <td>19.370667</td>\n",
       "      <td>19.806334</td>\n",
       "      <td>18.951667</td>\n",
       "      <td>19.401667</td>\n",
       "      <td>6.939015e+07</td>\n",
       "      <td>0.0</td>\n",
       "      <td>0.000000</td>\n",
       "    </tr>\n",
       "    <tr>\n",
       "      <th>50%</th>\n",
       "      <td>103.000000</td>\n",
       "      <td>108.428001</td>\n",
       "      <td>99.133331</td>\n",
       "      <td>103.067329</td>\n",
       "      <td>9.567210e+07</td>\n",
       "      <td>0.0</td>\n",
       "      <td>0.000000</td>\n",
       "    </tr>\n",
       "    <tr>\n",
       "      <th>75%</th>\n",
       "      <td>237.385002</td>\n",
       "      <td>243.044998</td>\n",
       "      <td>233.111664</td>\n",
       "      <td>237.989998</td>\n",
       "      <td>1.324342e+08</td>\n",
       "      <td>0.0</td>\n",
       "      <td>0.000000</td>\n",
       "    </tr>\n",
       "    <tr>\n",
       "      <th>max</th>\n",
       "      <td>475.899994</td>\n",
       "      <td>488.540009</td>\n",
       "      <td>457.510010</td>\n",
       "      <td>479.859985</td>\n",
       "      <td>9.140820e+08</td>\n",
       "      <td>0.0</td>\n",
       "      <td>5.000000</td>\n",
       "    </tr>\n",
       "  </tbody>\n",
       "</table>\n",
       "</div>"
      ],
      "text/plain": [
       "              Open         High          Low        Close        Volume  \\\n",
       "count  2515.000000  2515.000000  2515.000000  2515.000000  2.515000e+03   \n",
       "mean    133.732657   136.729599   130.533528   133.697908  1.146432e+08   \n",
       "std     121.301286   124.050445   118.267514   121.186898  7.332354e+07   \n",
       "min       9.488000    10.331333     9.403333     9.578000  1.062000e+07   \n",
       "25%      19.370667    19.806334    18.951667    19.401667  6.939015e+07   \n",
       "50%     103.000000   108.428001    99.133331   103.067329  9.567210e+07   \n",
       "75%     237.385002   243.044998   233.111664   237.989998  1.324342e+08   \n",
       "max     475.899994   488.540009   457.510010   479.859985  9.140820e+08   \n",
       "\n",
       "       Dividends  Stock Splits  \n",
       "count     2515.0   2515.000000  \n",
       "mean         0.0      0.003181  \n",
       "std          0.0      0.116250  \n",
       "min          0.0      0.000000  \n",
       "25%          0.0      0.000000  \n",
       "50%          0.0      0.000000  \n",
       "75%          0.0      0.000000  \n",
       "max          0.0      5.000000  "
      ]
     },
     "execution_count": 3,
     "metadata": {},
     "output_type": "execute_result"
    }
   ],
   "source": [
    "TSLA_df.describe()"
   ]
  },
  {
   "cell_type": "code",
   "execution_count": 4,
   "id": "c8db5b38",
   "metadata": {},
   "outputs": [
    {
     "data": {
      "text/html": [
       "<div>\n",
       "<style scoped>\n",
       "    .dataframe tbody tr th:only-of-type {\n",
       "        vertical-align: middle;\n",
       "    }\n",
       "\n",
       "    .dataframe tbody tr th {\n",
       "        vertical-align: top;\n",
       "    }\n",
       "\n",
       "    .dataframe thead th {\n",
       "        text-align: right;\n",
       "    }\n",
       "</style>\n",
       "<table border=\"1\" class=\"dataframe\">\n",
       "  <thead>\n",
       "    <tr style=\"text-align: right;\">\n",
       "      <th></th>\n",
       "      <th>Open</th>\n",
       "      <th>High</th>\n",
       "      <th>Low</th>\n",
       "      <th>Close</th>\n",
       "      <th>Volume</th>\n",
       "      <th>Dividends</th>\n",
       "      <th>Stock Splits</th>\n",
       "      <th>Capital Gains</th>\n",
       "    </tr>\n",
       "  </thead>\n",
       "  <tbody>\n",
       "    <tr>\n",
       "      <th>count</th>\n",
       "      <td>2515.000000</td>\n",
       "      <td>2515.000000</td>\n",
       "      <td>2515.000000</td>\n",
       "      <td>2515.000000</td>\n",
       "      <td>2.515000e+03</td>\n",
       "      <td>2515.000000</td>\n",
       "      <td>2515.0</td>\n",
       "      <td>2515.0</td>\n",
       "    </tr>\n",
       "    <tr>\n",
       "      <th>mean</th>\n",
       "      <td>336.645419</td>\n",
       "      <td>338.516819</td>\n",
       "      <td>334.617484</td>\n",
       "      <td>336.713126</td>\n",
       "      <td>8.476471e+07</td>\n",
       "      <td>0.022739</td>\n",
       "      <td>0.0</td>\n",
       "      <td>0.0</td>\n",
       "    </tr>\n",
       "    <tr>\n",
       "      <th>std</th>\n",
       "      <td>126.789696</td>\n",
       "      <td>127.439044</td>\n",
       "      <td>126.056573</td>\n",
       "      <td>126.815737</td>\n",
       "      <td>4.433420e+07</td>\n",
       "      <td>0.181511</td>\n",
       "      <td>0.0</td>\n",
       "      <td>0.0</td>\n",
       "    </tr>\n",
       "    <tr>\n",
       "      <th>min</th>\n",
       "      <td>155.426545</td>\n",
       "      <td>156.926777</td>\n",
       "      <td>153.758485</td>\n",
       "      <td>155.869797</td>\n",
       "      <td>2.027000e+07</td>\n",
       "      <td>0.000000</td>\n",
       "      <td>0.0</td>\n",
       "      <td>0.0</td>\n",
       "    </tr>\n",
       "    <tr>\n",
       "      <th>25%</th>\n",
       "      <td>233.768448</td>\n",
       "      <td>236.083089</td>\n",
       "      <td>231.688427</td>\n",
       "      <td>234.190041</td>\n",
       "      <td>5.771670e+07</td>\n",
       "      <td>0.000000</td>\n",
       "      <td>0.0</td>\n",
       "      <td>0.0</td>\n",
       "    </tr>\n",
       "    <tr>\n",
       "      <th>50%</th>\n",
       "      <td>309.175535</td>\n",
       "      <td>310.705123</td>\n",
       "      <td>306.601219</td>\n",
       "      <td>308.779480</td>\n",
       "      <td>7.421450e+07</td>\n",
       "      <td>0.000000</td>\n",
       "      <td>0.0</td>\n",
       "      <td>0.0</td>\n",
       "    </tr>\n",
       "    <tr>\n",
       "      <th>75%</th>\n",
       "      <td>422.047793</td>\n",
       "      <td>424.310222</td>\n",
       "      <td>419.193885</td>\n",
       "      <td>421.886749</td>\n",
       "      <td>9.750170e+07</td>\n",
       "      <td>0.000000</td>\n",
       "      <td>0.0</td>\n",
       "      <td>0.0</td>\n",
       "    </tr>\n",
       "    <tr>\n",
       "      <th>max</th>\n",
       "      <td>639.460022</td>\n",
       "      <td>639.849976</td>\n",
       "      <td>635.539978</td>\n",
       "      <td>637.179993</td>\n",
       "      <td>5.072443e+08</td>\n",
       "      <td>1.966000</td>\n",
       "      <td>0.0</td>\n",
       "      <td>0.0</td>\n",
       "    </tr>\n",
       "  </tbody>\n",
       "</table>\n",
       "</div>"
      ],
      "text/plain": [
       "              Open         High          Low        Close        Volume  \\\n",
       "count  2515.000000  2515.000000  2515.000000  2515.000000  2.515000e+03   \n",
       "mean    336.645419   338.516819   334.617484   336.713126  8.476471e+07   \n",
       "std     126.789696   127.439044   126.056573   126.815737  4.433420e+07   \n",
       "min     155.426545   156.926777   153.758485   155.869797  2.027000e+07   \n",
       "25%     233.768448   236.083089   231.688427   234.190041  5.771670e+07   \n",
       "50%     309.175535   310.705123   306.601219   308.779480  7.421450e+07   \n",
       "75%     422.047793   424.310222   419.193885   421.886749  9.750170e+07   \n",
       "max     639.460022   639.849976   635.539978   637.179993  5.072443e+08   \n",
       "\n",
       "         Dividends  Stock Splits  Capital Gains  \n",
       "count  2515.000000        2515.0         2515.0  \n",
       "mean      0.022739           0.0            0.0  \n",
       "std       0.181511           0.0            0.0  \n",
       "min       0.000000           0.0            0.0  \n",
       "25%       0.000000           0.0            0.0  \n",
       "50%       0.000000           0.0            0.0  \n",
       "75%       0.000000           0.0            0.0  \n",
       "max       1.966000           0.0            0.0  "
      ]
     },
     "execution_count": 4,
     "metadata": {},
     "output_type": "execute_result"
    }
   ],
   "source": [
    "SPY_df.describe()"
   ]
  },
  {
   "cell_type": "code",
   "execution_count": 5,
   "id": "b12c9237",
   "metadata": {},
   "outputs": [
    {
     "data": {
      "text/html": [
       "<div>\n",
       "<style scoped>\n",
       "    .dataframe tbody tr th:only-of-type {\n",
       "        vertical-align: middle;\n",
       "    }\n",
       "\n",
       "    .dataframe tbody tr th {\n",
       "        vertical-align: top;\n",
       "    }\n",
       "\n",
       "    .dataframe thead th {\n",
       "        text-align: right;\n",
       "    }\n",
       "</style>\n",
       "<table border=\"1\" class=\"dataframe\">\n",
       "  <thead>\n",
       "    <tr style=\"text-align: right;\">\n",
       "      <th></th>\n",
       "      <th>Open</th>\n",
       "      <th>High</th>\n",
       "      <th>Low</th>\n",
       "      <th>Close</th>\n",
       "      <th>Volume</th>\n",
       "      <th>Dividends</th>\n",
       "      <th>Stock Splits</th>\n",
       "      <th>Capital Gains</th>\n",
       "    </tr>\n",
       "  </thead>\n",
       "  <tbody>\n",
       "    <tr>\n",
       "      <th>count</th>\n",
       "      <td>2515.000000</td>\n",
       "      <td>2515.000000</td>\n",
       "      <td>2515.000000</td>\n",
       "      <td>2515.000000</td>\n",
       "      <td>2.515000e+03</td>\n",
       "      <td>2515.000000</td>\n",
       "      <td>2515.0</td>\n",
       "      <td>2515.0</td>\n",
       "    </tr>\n",
       "    <tr>\n",
       "      <th>mean</th>\n",
       "      <td>68.563507</td>\n",
       "      <td>68.663456</td>\n",
       "      <td>68.456455</td>\n",
       "      <td>68.561181</td>\n",
       "      <td>4.470264e+06</td>\n",
       "      <td>0.008887</td>\n",
       "      <td>0.0</td>\n",
       "      <td>0.0</td>\n",
       "    </tr>\n",
       "    <tr>\n",
       "      <th>std</th>\n",
       "      <td>4.518363</td>\n",
       "      <td>4.525471</td>\n",
       "      <td>4.507657</td>\n",
       "      <td>4.517074</td>\n",
       "      <td>2.901400e+06</td>\n",
       "      <td>0.040685</td>\n",
       "      <td>0.0</td>\n",
       "      <td>0.0</td>\n",
       "    </tr>\n",
       "    <tr>\n",
       "      <th>min</th>\n",
       "      <td>61.174283</td>\n",
       "      <td>61.249758</td>\n",
       "      <td>61.144077</td>\n",
       "      <td>61.204468</td>\n",
       "      <td>0.000000e+00</td>\n",
       "      <td>0.000000</td>\n",
       "      <td>0.0</td>\n",
       "      <td>0.0</td>\n",
       "    </tr>\n",
       "    <tr>\n",
       "      <th>25%</th>\n",
       "      <td>64.730452</td>\n",
       "      <td>64.787891</td>\n",
       "      <td>64.642583</td>\n",
       "      <td>64.718342</td>\n",
       "      <td>2.228950e+06</td>\n",
       "      <td>0.000000</td>\n",
       "      <td>0.0</td>\n",
       "      <td>0.0</td>\n",
       "    </tr>\n",
       "    <tr>\n",
       "      <th>50%</th>\n",
       "      <td>67.708689</td>\n",
       "      <td>67.827483</td>\n",
       "      <td>67.565424</td>\n",
       "      <td>67.713684</td>\n",
       "      <td>4.166800e+06</td>\n",
       "      <td>0.000000</td>\n",
       "      <td>0.0</td>\n",
       "      <td>0.0</td>\n",
       "    </tr>\n",
       "    <tr>\n",
       "      <th>75%</th>\n",
       "      <td>71.921594</td>\n",
       "      <td>72.080329</td>\n",
       "      <td>71.811007</td>\n",
       "      <td>71.935459</td>\n",
       "      <td>5.921400e+06</td>\n",
       "      <td>0.000000</td>\n",
       "      <td>0.0</td>\n",
       "      <td>0.0</td>\n",
       "    </tr>\n",
       "    <tr>\n",
       "      <th>max</th>\n",
       "      <td>77.378749</td>\n",
       "      <td>77.413307</td>\n",
       "      <td>77.283688</td>\n",
       "      <td>77.318253</td>\n",
       "      <td>3.396300e+07</td>\n",
       "      <td>0.369000</td>\n",
       "      <td>0.0</td>\n",
       "      <td>0.0</td>\n",
       "    </tr>\n",
       "  </tbody>\n",
       "</table>\n",
       "</div>"
      ],
      "text/plain": [
       "              Open         High          Low        Close        Volume  \\\n",
       "count  2515.000000  2515.000000  2515.000000  2515.000000  2.515000e+03   \n",
       "mean     68.563507    68.663456    68.456455    68.561181  4.470264e+06   \n",
       "std       4.518363     4.525471     4.507657     4.517074  2.901400e+06   \n",
       "min      61.174283    61.249758    61.144077    61.204468  0.000000e+00   \n",
       "25%      64.730452    64.787891    64.642583    64.718342  2.228950e+06   \n",
       "50%      67.708689    67.827483    67.565424    67.713684  4.166800e+06   \n",
       "75%      71.921594    72.080329    71.811007    71.935459  5.921400e+06   \n",
       "max      77.378749    77.413307    77.283688    77.318253  3.396300e+07   \n",
       "\n",
       "         Dividends  Stock Splits  Capital Gains  \n",
       "count  2515.000000        2515.0         2515.0  \n",
       "mean      0.008887           0.0            0.0  \n",
       "std       0.040685           0.0            0.0  \n",
       "min       0.000000           0.0            0.0  \n",
       "25%       0.000000           0.0            0.0  \n",
       "50%       0.000000           0.0            0.0  \n",
       "75%       0.000000           0.0            0.0  \n",
       "max       0.369000           0.0            0.0  "
      ]
     },
     "execution_count": 5,
     "metadata": {},
     "output_type": "execute_result"
    }
   ],
   "source": [
    "BND_df.describe()"
   ]
  },
  {
   "cell_type": "markdown",
   "id": "a93924f4",
   "metadata": {},
   "source": [
    "* Check all columns have appropriate data types and check for missing values"
   ]
  },
  {
   "cell_type": "code",
   "execution_count": 6,
   "id": "ac4e39ce",
   "metadata": {},
   "outputs": [
    {
     "name": "stdout",
     "output_type": "stream",
     "text": [
      "<class 'pandas.core.frame.DataFrame'>\n",
      "RangeIndex: 2515 entries, 0 to 2514\n",
      "Data columns (total 8 columns):\n",
      " #   Column        Non-Null Count  Dtype  \n",
      "---  ------        --------------  -----  \n",
      " 0   Date          2515 non-null   object \n",
      " 1   Open          2515 non-null   float64\n",
      " 2   High          2515 non-null   float64\n",
      " 3   Low           2515 non-null   float64\n",
      " 4   Close         2515 non-null   float64\n",
      " 5   Volume        2515 non-null   int64  \n",
      " 6   Dividends     2515 non-null   float64\n",
      " 7   Stock Splits  2515 non-null   float64\n",
      "dtypes: float64(6), int64(1), object(1)\n",
      "memory usage: 157.3+ KB\n"
     ]
    }
   ],
   "source": [
    "TSLA_df.info()"
   ]
  },
  {
   "cell_type": "code",
   "execution_count": 7,
   "id": "b0f79c4a",
   "metadata": {},
   "outputs": [
    {
     "name": "stdout",
     "output_type": "stream",
     "text": [
      "<class 'pandas.core.frame.DataFrame'>\n",
      "RangeIndex: 2515 entries, 0 to 2514\n",
      "Data columns (total 9 columns):\n",
      " #   Column         Non-Null Count  Dtype  \n",
      "---  ------         --------------  -----  \n",
      " 0   Date           2515 non-null   object \n",
      " 1   Open           2515 non-null   float64\n",
      " 2   High           2515 non-null   float64\n",
      " 3   Low            2515 non-null   float64\n",
      " 4   Close          2515 non-null   float64\n",
      " 5   Volume         2515 non-null   int64  \n",
      " 6   Dividends      2515 non-null   float64\n",
      " 7   Stock Splits   2515 non-null   float64\n",
      " 8   Capital Gains  2515 non-null   float64\n",
      "dtypes: float64(7), int64(1), object(1)\n",
      "memory usage: 177.0+ KB\n"
     ]
    }
   ],
   "source": [
    "SPY_df.info()"
   ]
  },
  {
   "cell_type": "code",
   "execution_count": 8,
   "id": "453098c1",
   "metadata": {},
   "outputs": [
    {
     "name": "stdout",
     "output_type": "stream",
     "text": [
      "<class 'pandas.core.frame.DataFrame'>\n",
      "RangeIndex: 2515 entries, 0 to 2514\n",
      "Data columns (total 9 columns):\n",
      " #   Column         Non-Null Count  Dtype  \n",
      "---  ------         --------------  -----  \n",
      " 0   Date           2515 non-null   object \n",
      " 1   Open           2515 non-null   float64\n",
      " 2   High           2515 non-null   float64\n",
      " 3   Low            2515 non-null   float64\n",
      " 4   Close          2515 non-null   float64\n",
      " 5   Volume         2515 non-null   int64  \n",
      " 6   Dividends      2515 non-null   float64\n",
      " 7   Stock Splits   2515 non-null   float64\n",
      " 8   Capital Gains  2515 non-null   float64\n",
      "dtypes: float64(7), int64(1), object(1)\n",
      "memory usage: 177.0+ KB\n"
     ]
    }
   ],
   "source": [
    "BND_df.info()"
   ]
  },
  {
   "cell_type": "code",
   "execution_count": 9,
   "id": "0a5eb5b0",
   "metadata": {},
   "outputs": [
    {
     "name": "stderr",
     "output_type": "stream",
     "text": [
      "C:\\Users\\HP\\AppData\\Local\\Temp\\ipykernel_29624\\1627981917.py:1: FutureWarning: In a future version of pandas, parsing datetimes with mixed time zones will raise an error unless `utc=True`. Please specify `utc=True` to opt in to the new behaviour and silence this warning. To create a `Series` with mixed offsets and `object` dtype, please use `apply` and `datetime.datetime.strptime`\n",
      "  TSLA_df['Date'] = pd.to_datetime(TSLA_df['Date'])\n",
      "C:\\Users\\HP\\AppData\\Local\\Temp\\ipykernel_29624\\1627981917.py:2: FutureWarning: In a future version of pandas, parsing datetimes with mixed time zones will raise an error unless `utc=True`. Please specify `utc=True` to opt in to the new behaviour and silence this warning. To create a `Series` with mixed offsets and `object` dtype, please use `apply` and `datetime.datetime.strptime`\n",
      "  SPY_df['Date'] = pd.to_datetime(SPY_df['Date'])\n",
      "C:\\Users\\HP\\AppData\\Local\\Temp\\ipykernel_29624\\1627981917.py:3: FutureWarning: In a future version of pandas, parsing datetimes with mixed time zones will raise an error unless `utc=True`. Please specify `utc=True` to opt in to the new behaviour and silence this warning. To create a `Series` with mixed offsets and `object` dtype, please use `apply` and `datetime.datetime.strptime`\n",
      "  BND_df['Date'] = pd.to_datetime(BND_df['Date'])\n"
     ]
    }
   ],
   "source": [
    "TSLA_df['Date'] = pd.to_datetime(TSLA_df['Date'])\n",
    "SPY_df['Date'] = pd.to_datetime(SPY_df['Date'])\n",
    "BND_df['Date'] = pd.to_datetime(BND_df['Date'])"
   ]
  },
  {
   "cell_type": "code",
   "execution_count": 10,
   "id": "65dc6d7b",
   "metadata": {},
   "outputs": [
    {
     "name": "stdout",
     "output_type": "stream",
     "text": [
      "Time interval for TSLA data: 2015-08-10 00:00:00-04:00 to 2025-08-08 00:00:00-04:00\n",
      "Time interval for SPY data: 2015-08-10 00:00:00-04:00 to 2025-08-08 00:00:00-04:00\n",
      "Time interval for BND data: 2015-08-10 00:00:00-04:00 to 2025-08-08 00:00:00-04:00\n"
     ]
    }
   ],
   "source": [
    "print(\"Time interval for TSLA data:\", TSLA_df['Date'].min(), \"to\", TSLA_df['Date'].max())\n",
    "print(\"Time interval for SPY data:\", SPY_df['Date'].min(), \"to\", SPY_df['Date'].max())\n",
    "print(\"Time interval for BND data:\", BND_df['Date'].min(), \"to\", BND_df['Date'].max())"
   ]
  },
  {
   "cell_type": "code",
   "execution_count": 11,
   "id": "6656e2d0",
   "metadata": {},
   "outputs": [
    {
     "data": {
      "text/plain": [
       "Date            0\n",
       "Open            0\n",
       "High            0\n",
       "Low             0\n",
       "Close           0\n",
       "Volume          0\n",
       "Dividends       0\n",
       "Stock Splits    0\n",
       "dtype: int64"
      ]
     },
     "execution_count": 11,
     "metadata": {},
     "output_type": "execute_result"
    }
   ],
   "source": [
    "TSLA_df.isnull().sum()"
   ]
  },
  {
   "cell_type": "code",
   "execution_count": 12,
   "id": "54702530",
   "metadata": {},
   "outputs": [
    {
     "data": {
      "text/plain": [
       "Date             0\n",
       "Open             0\n",
       "High             0\n",
       "Low              0\n",
       "Close            0\n",
       "Volume           0\n",
       "Dividends        0\n",
       "Stock Splits     0\n",
       "Capital Gains    0\n",
       "dtype: int64"
      ]
     },
     "execution_count": 12,
     "metadata": {},
     "output_type": "execute_result"
    }
   ],
   "source": [
    "SPY_df.isnull().sum()"
   ]
  },
  {
   "cell_type": "code",
   "execution_count": 13,
   "id": "7a70a113",
   "metadata": {},
   "outputs": [
    {
     "data": {
      "text/plain": [
       "Date             0\n",
       "Open             0\n",
       "High             0\n",
       "Low              0\n",
       "Close            0\n",
       "Volume           0\n",
       "Dividends        0\n",
       "Stock Splits     0\n",
       "Capital Gains    0\n",
       "dtype: int64"
      ]
     },
     "execution_count": 13,
     "metadata": {},
     "output_type": "execute_result"
    }
   ],
   "source": [
    "BND_df.isnull().sum()"
   ]
  },
  {
   "cell_type": "markdown",
   "id": "3018c881",
   "metadata": {},
   "source": [
    "We do not have missing value"
   ]
  },
  {
   "cell_type": "markdown",
   "id": "011777f6",
   "metadata": {},
   "source": [
    "* Normalize the data "
   ]
  },
  {
   "cell_type": "code",
   "execution_count": 14,
   "id": "01263ec8",
   "metadata": {},
   "outputs": [],
   "source": [
    "scaler = MinMaxScaler()\n",
    "TSLA_df['Close'] = scaler.fit_transform(TSLA_df[['Close']])"
   ]
  },
  {
   "cell_type": "markdown",
   "id": "860b4dc3",
   "metadata": {},
   "source": [
    "* Visualize the closing price over time to identify trends and patterns"
   ]
  },
  {
   "cell_type": "code",
   "execution_count": 15,
   "id": "bf84c9fd",
   "metadata": {},
   "outputs": [
    {
     "data": {
      "text/plain": [
       "0    0.013817\n",
       "1    0.013283\n",
       "2    0.013396\n",
       "3    0.014011\n",
       "4    0.014102\n",
       "Name: Close, dtype: float64"
      ]
     },
     "execution_count": 15,
     "metadata": {},
     "output_type": "execute_result"
    }
   ],
   "source": [
    "TSLA_df[\"Close\"].head()"
   ]
  },
  {
   "cell_type": "code",
   "execution_count": 16,
   "id": "50740973",
   "metadata": {},
   "outputs": [],
   "source": [
    "TSLA_df.sort_values(by='Date', inplace=True)"
   ]
  },
  {
   "cell_type": "code",
   "execution_count": 17,
   "id": "7246d139",
   "metadata": {},
   "outputs": [
    {
     "data": {
      "image/png": "[encoded data removed]",
      "text/plain": [
       "<Figure size 640x480 with 1 Axes>"
      ]
     },
     "metadata": {},
     "output_type": "display_data"
    }
   ],
   "source": [
    "plt.plot(TSLA_df['Date'], TSLA_df['Close'], label='TSLA Close Price')\n",
    "plt.title('TSLA Closing Price Over Time')\n",
    "plt.xlabel('Date')\n",
    "plt.ylabel('Closing Price')\n",
    "plt.legend()\n",
    "plt.show()"
   ]
  },
  {
   "cell_type": "markdown",
   "id": "78f2c784",
   "metadata": {},
   "source": [
    "* Calculate daily percentage"
   ]
  },
  {
   "cell_type": "code",
   "execution_count": 18,
   "id": "b9d99342",
   "metadata": {},
   "outputs": [],
   "source": [
    "TSLA_df[\"Daily_Change\"] = TSLA_df['Close'].pct_change() * 100"
   ]
  },
  {
   "cell_type": "code",
   "execution_count": 19,
   "id": "91481fff",
   "metadata": {},
   "outputs": [
    {
     "data": {
      "text/html": [
       "<div>\n",
       "<style scoped>\n",
       "    .dataframe tbody tr th:only-of-type {\n",
       "        vertical-align: middle;\n",
       "    }\n",
       "\n",
       "    .dataframe tbody tr th {\n",
       "        vertical-align: top;\n",
       "    }\n",
       "\n",
       "    .dataframe thead th {\n",
       "        text-align: right;\n",
       "    }\n",
       "</style>\n",
       "<table border=\"1\" class=\"dataframe\">\n",
       "  <thead>\n",
       "    <tr style=\"text-align: right;\">\n",
       "      <th></th>\n",
       "      <th>Date</th>\n",
       "      <th>Open</th>\n",
       "      <th>High</th>\n",
       "      <th>Low</th>\n",
       "      <th>Close</th>\n",
       "      <th>Volume</th>\n",
       "      <th>Dividends</th>\n",
       "      <th>Stock Splits</th>\n",
       "      <th>Daily_Change</th>\n",
       "    </tr>\n",
       "  </thead>\n",
       "  <tbody>\n",
       "    <tr>\n",
       "      <th>0</th>\n",
       "      <td>2015-08-10 00:00:00-04:00</td>\n",
       "      <td>15.876667</td>\n",
       "      <td>16.198000</td>\n",
       "      <td>15.736667</td>\n",
       "      <td>0.013817</td>\n",
       "      <td>62788500</td>\n",
       "      <td>0.0</td>\n",
       "      <td>0.0</td>\n",
       "      <td>NaN</td>\n",
       "    </tr>\n",
       "    <tr>\n",
       "      <th>1</th>\n",
       "      <td>2015-08-11 00:00:00-04:00</td>\n",
       "      <td>15.810000</td>\n",
       "      <td>15.953333</td>\n",
       "      <td>15.629333</td>\n",
       "      <td>0.013283</td>\n",
       "      <td>63973500</td>\n",
       "      <td>0.0</td>\n",
       "      <td>0.0</td>\n",
       "      <td>-3.867855</td>\n",
       "    </tr>\n",
       "    <tr>\n",
       "      <th>2</th>\n",
       "      <td>2015-08-12 00:00:00-04:00</td>\n",
       "      <td>15.666667</td>\n",
       "      <td>15.984667</td>\n",
       "      <td>15.516000</td>\n",
       "      <td>0.013396</td>\n",
       "      <td>55920000</td>\n",
       "      <td>0.0</td>\n",
       "      <td>0.0</td>\n",
       "      <td>0.853788</td>\n",
       "    </tr>\n",
       "    <tr>\n",
       "      <th>3</th>\n",
       "      <td>2015-08-13 00:00:00-04:00</td>\n",
       "      <td>15.990667</td>\n",
       "      <td>16.431999</td>\n",
       "      <td>15.941333</td>\n",
       "      <td>0.014011</td>\n",
       "      <td>70338000</td>\n",
       "      <td>0.0</td>\n",
       "      <td>0.0</td>\n",
       "      <td>4.592593</td>\n",
       "    </tr>\n",
       "    <tr>\n",
       "      <th>4</th>\n",
       "      <td>2015-08-14 00:00:00-04:00</td>\n",
       "      <td>16.482668</td>\n",
       "      <td>16.528667</td>\n",
       "      <td>16.118000</td>\n",
       "      <td>0.014102</td>\n",
       "      <td>65472000</td>\n",
       "      <td>0.0</td>\n",
       "      <td>0.0</td>\n",
       "      <td>0.647493</td>\n",
       "    </tr>\n",
       "  </tbody>\n",
       "</table>\n",
       "</div>"
      ],
      "text/plain": [
       "                        Date       Open       High        Low     Close  \\\n",
       "0  2015-08-10 00:00:00-04:00  15.876667  16.198000  15.736667  0.013817   \n",
       "1  2015-08-11 00:00:00-04:00  15.810000  15.953333  15.629333  0.013283   \n",
       "2  2015-08-12 00:00:00-04:00  15.666667  15.984667  15.516000  0.013396   \n",
       "3  2015-08-13 00:00:00-04:00  15.990667  16.431999  15.941333  0.014011   \n",
       "4  2015-08-14 00:00:00-04:00  16.482668  16.528667  16.118000  0.014102   \n",
       "\n",
       "     Volume  Dividends  Stock Splits  Daily_Change  \n",
       "0  62788500        0.0           0.0           NaN  \n",
       "1  63973500        0.0           0.0     -3.867855  \n",
       "2  55920000        0.0           0.0      0.853788  \n",
       "3  70338000        0.0           0.0      4.592593  \n",
       "4  65472000        0.0           0.0      0.647493  "
      ]
     },
     "execution_count": 19,
     "metadata": {},
     "output_type": "execute_result"
    }
   ],
   "source": [
    "TSLA_df.head()"
   ]
  },
  {
   "cell_type": "markdown",
   "id": "108f991d",
   "metadata": {},
   "source": [
    "* Plot the daily percentage change"
   ]
  },
  {
   "cell_type": "code",
   "execution_count": 20,
   "id": "9ce94567",
   "metadata": {},
   "outputs": [
    {
     "data": {
      "image/png": "[encoded data removed]",
      "text/plain": [
       "<Figure size 640x480 with 1 Axes>"
      ]
     },
     "metadata": {},
     "output_type": "display_data"
    }
   ],
   "source": [
    "plt.plot(TSLA_df[\"Date\"] , TSLA_df[\"Daily_Change\"], label='TSLA Daily Percentage Change')\n",
    "plt.title('TSLA Daily Percentage Change Over Time')\n",
    "plt.xlabel('Date')\n",
    "plt.ylabel('Daily Percentage Change (%)')\n",
    "plt.legend()\n",
    "plt.show()"
   ]
  },
  {
   "cell_type": "markdown",
   "id": "c812bfd2",
   "metadata": {},
   "source": [
    "* Analyze rolling means and standard deviations"
   ]
  },
  {
   "cell_type": "code",
   "execution_count": 21,
   "id": "a6f2e680",
   "metadata": {},
   "outputs": [
    {
     "data": {
      "text/plain": [
       "Text(0, 0.5, 'Value')"
      ]
     },
     "execution_count": 21,
     "metadata": {},
     "output_type": "execute_result"
    },
    {
     "data": {
      "image/png": "[encoded data removed]",
      "text/plain": [
       "<Figure size 640x480 with 1 Axes>"
      ]
     },
     "metadata": {},
     "output_type": "display_data"
    }
   ],
   "source": [
    "TSLA_df[\"Close\"].rolling(window=30).mean().plot(label='10-Day Rolling Mean', color='orange')\n",
    "plt.title('10-Day Rolling Mean trend')\n",
    "plt.xlabel('Date')\n",
    "plt.ylabel('Value')"
   ]
  },
  {
   "cell_type": "code",
   "execution_count": 22,
   "id": "a4bc4602",
   "metadata": {},
   "outputs": [
    {
     "data": {
      "image/png": "[encoded data removed]",
      "text/plain": [
       "<Figure size 640x480 with 1 Axes>"
      ]
     },
     "metadata": {},
     "output_type": "display_data"
    }
   ],
   "source": [
    "TSLA_df[\"Close\"].rolling(window=30).std().plot(label='10-Day Rolling Std Dev')\n",
    "plt.title('10-Day Rolling Standard Deviation trend')\n",
    "plt.xlabel('Date')\n",
    "plt.ylabel('Value')\n",
    "plt.show()"
   ]
  },
  {
   "cell_type": "markdown",
   "id": "0d344951",
   "metadata": {},
   "source": [
    "* Outlier detection "
   ]
  },
  {
   "cell_type": "code",
   "execution_count": 23,
   "id": "a8c825b3",
   "metadata": {},
   "outputs": [],
   "source": [
    "TSLA_df.dropna(inplace=True)"
   ]
  },
  {
   "cell_type": "code",
   "execution_count": 24,
   "id": "94f21fb0",
   "metadata": {},
   "outputs": [
    {
     "name": "stderr",
     "output_type": "stream",
     "text": [
      "c:\\Users\\HP\\OneDrive\\Desktop\\Tenx\\Forecast_Financial_Data\\venv\\Lib\\site-packages\\pandas\\core\\nanops.py:1016: RuntimeWarning: invalid value encountered in subtract\n",
      "  sqr = _ensure_numeric((avg - values) ** 2)\n"
     ]
    },
    {
     "data": {
      "text/plain": [
       "count    2514.000000\n",
       "mean             inf\n",
       "std              NaN\n",
       "min      -100.000000\n",
       "25%        -2.420708\n",
       "50%         0.166592\n",
       "75%         3.037374\n",
       "max              inf\n",
       "Name: Daily_Change, dtype: float64"
      ]
     },
     "execution_count": 24,
     "metadata": {},
     "output_type": "execute_result"
    }
   ],
   "source": [
    "TSLA_df[\"Daily_Change\"].describe()"
   ]
  },
  {
   "cell_type": "code",
   "execution_count": 25,
   "id": "555b4e02",
   "metadata": {},
   "outputs": [
    {
     "name": "stderr",
     "output_type": "stream",
     "text": [
      "C:\\Users\\HP\\AppData\\Local\\Temp\\ipykernel_29624\\3997975334.py:2: FutureWarning: A value is trying to be set on a copy of a DataFrame or Series through chained assignment using an inplace method.\n",
      "The behavior will change in pandas 3.0. This inplace method will never work because the intermediate object on which we are setting values always behaves as a copy.\n",
      "\n",
      "For example, when doing 'df[col].method(value, inplace=True)', try using 'df.method({col: value}, inplace=True)' or df[col] = df[col].method(value) instead, to perform the operation inplace on the original object.\n",
      "\n",
      "\n",
      "  TSLA_df[\"Daily_Change\"].replace([np.inf, -np.inf], np.nan, inplace=True)\n"
     ]
    }
   ],
   "source": [
    "# Replace inf/-inf with NaN and drop NaN values\n",
    "TSLA_df[\"Daily_Change\"].replace([np.inf, -np.inf], np.nan, inplace=True)\n",
    "TSLA_df.dropna(subset=[\"Daily_Change\"], inplace=True)"
   ]
  },
  {
   "cell_type": "code",
   "execution_count": 26,
   "id": "4d5f2796",
   "metadata": {},
   "outputs": [
    {
     "data": {
      "text/plain": [
       "count    2513.000000\n",
       "mean        0.318635\n",
       "std         6.888032\n",
       "min      -100.000000\n",
       "25%        -2.421098\n",
       "50%         0.165491\n",
       "75%         3.026993\n",
       "max       117.477973\n",
       "Name: Daily_Change, dtype: float64"
      ]
     },
     "execution_count": 26,
     "metadata": {},
     "output_type": "execute_result"
    }
   ],
   "source": [
    "TSLA_df[\"Daily_Change\"].describe()"
   ]
  },
  {
   "cell_type": "code",
   "execution_count": 27,
   "id": "c1a02b54",
   "metadata": {},
   "outputs": [],
   "source": [
    "TSLA_df[\"Z_Score_of_daily_change\"] = np.abs(stats.zscore(TSLA_df[\"Daily_Change\"]))"
   ]
  },
  {
   "cell_type": "code",
   "execution_count": 28,
   "id": "b77d3b97",
   "metadata": {},
   "outputs": [
    {
     "data": {
      "text/html": [
       "<div>\n",
       "<style scoped>\n",
       "    .dataframe tbody tr th:only-of-type {\n",
       "        vertical-align: middle;\n",
       "    }\n",
       "\n",
       "    .dataframe tbody tr th {\n",
       "        vertical-align: top;\n",
       "    }\n",
       "\n",
       "    .dataframe thead th {\n",
       "        text-align: right;\n",
       "    }\n",
       "</style>\n",
       "<table border=\"1\" class=\"dataframe\">\n",
       "  <thead>\n",
       "    <tr style=\"text-align: right;\">\n",
       "      <th></th>\n",
       "      <th>Date</th>\n",
       "      <th>Open</th>\n",
       "      <th>High</th>\n",
       "      <th>Low</th>\n",
       "      <th>Close</th>\n",
       "      <th>Volume</th>\n",
       "      <th>Dividends</th>\n",
       "      <th>Stock Splits</th>\n",
       "      <th>Daily_Change</th>\n",
       "      <th>Z_Score_of_daily_change</th>\n",
       "    </tr>\n",
       "  </thead>\n",
       "  <tbody>\n",
       "    <tr>\n",
       "      <th>1</th>\n",
       "      <td>2015-08-11 00:00:00-04:00</td>\n",
       "      <td>15.810000</td>\n",
       "      <td>15.953333</td>\n",
       "      <td>15.629333</td>\n",
       "      <td>0.013283</td>\n",
       "      <td>63973500</td>\n",
       "      <td>0.0</td>\n",
       "      <td>0.0</td>\n",
       "      <td>-3.867855</td>\n",
       "      <td>0.607913</td>\n",
       "    </tr>\n",
       "    <tr>\n",
       "      <th>2</th>\n",
       "      <td>2015-08-12 00:00:00-04:00</td>\n",
       "      <td>15.666667</td>\n",
       "      <td>15.984667</td>\n",
       "      <td>15.516000</td>\n",
       "      <td>0.013396</td>\n",
       "      <td>55920000</td>\n",
       "      <td>0.0</td>\n",
       "      <td>0.0</td>\n",
       "      <td>0.853788</td>\n",
       "      <td>0.077709</td>\n",
       "    </tr>\n",
       "    <tr>\n",
       "      <th>3</th>\n",
       "      <td>2015-08-13 00:00:00-04:00</td>\n",
       "      <td>15.990667</td>\n",
       "      <td>16.431999</td>\n",
       "      <td>15.941333</td>\n",
       "      <td>0.014011</td>\n",
       "      <td>70338000</td>\n",
       "      <td>0.0</td>\n",
       "      <td>0.0</td>\n",
       "      <td>4.592593</td>\n",
       "      <td>0.620614</td>\n",
       "    </tr>\n",
       "    <tr>\n",
       "      <th>4</th>\n",
       "      <td>2015-08-14 00:00:00-04:00</td>\n",
       "      <td>16.482668</td>\n",
       "      <td>16.528667</td>\n",
       "      <td>16.118000</td>\n",
       "      <td>0.014102</td>\n",
       "      <td>65472000</td>\n",
       "      <td>0.0</td>\n",
       "      <td>0.0</td>\n",
       "      <td>0.647493</td>\n",
       "      <td>0.047753</td>\n",
       "    </tr>\n",
       "    <tr>\n",
       "      <th>5</th>\n",
       "      <td>2015-08-17 00:00:00-04:00</td>\n",
       "      <td>17.037333</td>\n",
       "      <td>17.106001</td>\n",
       "      <td>16.700666</td>\n",
       "      <td>0.015781</td>\n",
       "      <td>107650500</td>\n",
       "      <td>0.0</td>\n",
       "      <td>0.0</td>\n",
       "      <td>11.901892</td>\n",
       "      <td>1.681984</td>\n",
       "    </tr>\n",
       "  </tbody>\n",
       "</table>\n",
       "</div>"
      ],
      "text/plain": [
       "                        Date       Open       High        Low     Close  \\\n",
       "1  2015-08-11 00:00:00-04:00  15.810000  15.953333  15.629333  0.013283   \n",
       "2  2015-08-12 00:00:00-04:00  15.666667  15.984667  15.516000  0.013396   \n",
       "3  2015-08-13 00:00:00-04:00  15.990667  16.431999  15.941333  0.014011   \n",
       "4  2015-08-14 00:00:00-04:00  16.482668  16.528667  16.118000  0.014102   \n",
       "5  2015-08-17 00:00:00-04:00  17.037333  17.106001  16.700666  0.015781   \n",
       "\n",
       "      Volume  Dividends  Stock Splits  Daily_Change  Z_Score_of_daily_change  \n",
       "1   63973500        0.0           0.0     -3.867855                 0.607913  \n",
       "2   55920000        0.0           0.0      0.853788                 0.077709  \n",
       "3   70338000        0.0           0.0      4.592593                 0.620614  \n",
       "4   65472000        0.0           0.0      0.647493                 0.047753  \n",
       "5  107650500        0.0           0.0     11.901892                 1.681984  "
      ]
     },
     "execution_count": 28,
     "metadata": {},
     "output_type": "execute_result"
    }
   ],
   "source": [
    "TSLA_df.head()"
   ]
  },
  {
   "cell_type": "markdown",
   "id": "5a6531b1",
   "metadata": {},
   "source": [
    "* Days with unusually high or low returns"
   ]
  },
  {
   "cell_type": "code",
   "execution_count": 38,
   "id": "3fbec105",
   "metadata": {},
   "outputs": [
    {
     "name": "stdout",
     "output_type": "stream",
     "text": [
      "<class 'pandas.core.frame.DataFrame'>\n",
      "Index: 30 entries, 13 to 2431\n",
      "Data columns (total 12 columns):\n",
      " #   Column                      Non-Null Count  Dtype  \n",
      "---  ------                      --------------  -----  \n",
      " 0   Date                        30 non-null     object \n",
      " 1   Open                        30 non-null     float64\n",
      " 2   High                        30 non-null     float64\n",
      " 3   Low                         30 non-null     float64\n",
      " 4   Close                       30 non-null     float64\n",
      " 5   Volume                      30 non-null     int64  \n",
      " 6   Dividends                   30 non-null     float64\n",
      " 7   Stock Splits                30 non-null     float64\n",
      " 8   Daily_Change                30 non-null     float64\n",
      " 9   Z_Score_of_daily_change     30 non-null     float64\n",
      " 10  Closing_Price_Rolling_Mean  30 non-null     int64  \n",
      " 11  Closing_Price_Rolling_STD   30 non-null     int64  \n",
      "dtypes: float64(8), int64(3), object(1)\n",
      "memory usage: 3.0+ KB\n"
     ]
    }
   ],
   "source": [
    "TSLA_df[TSLA_df[\"Z_Score_of_daily_change\"]  > 3].info()"
   ]
  },
  {
   "cell_type": "code",
   "execution_count": 37,
   "id": "e9d6ec9a",
   "metadata": {},
   "outputs": [
    {
     "data": {
      "image/png": "[encoded data removed]",
      "text/plain": [
       "<Figure size 1000x600 with 1 Axes>"
      ]
     },
     "metadata": {},
     "output_type": "display_data"
    }
   ],
   "source": [
    "# Filter rows where Z-score > 3\n",
    "outliers = TSLA_df[TSLA_df[\"Z_Score_of_daily_change\"] > 3]\n",
    "\n",
    "# Plot Z-scores\n",
    "plt.figure(figsize=(10, 6))\n",
    "plt.plot(TSLA_df[\"Date\"], TSLA_df[\"Z_Score_of_daily_change\"], label=\"Z-Score of Daily Change\")\n",
    "plt.scatter(outliers[\"Date\"], outliers[\"Z_Score_of_daily_change\"], color=\"red\", label=\"Outliers (> 3)\", zorder=5)\n",
    "\n",
    "# Add labels and title\n",
    "plt.axhline(3, color=\"gray\", linestyle=\"--\", linewidth=1)\n",
    "plt.xlabel(\"Date\")\n",
    "plt.ylabel(\"Z-Score of Daily Change\")\n",
    "plt.title(\"Tesla Daily Change Z-Scores with Outliers Highlighted\")\n",
    "plt.legend()\n",
    "plt.xticks(rotation=45)\n",
    "plt.tight_layout()\n",
    "\n",
    "plt.show()\n"
   ]
  },
  {
   "cell_type": "markdown",
   "id": "d6a936e3",
   "metadata": {},
   "source": [
    "* Augmented Dickey-Fuller test on the closing prices and daily returns"
   ]
  },
  {
   "cell_type": "markdown",
   "id": "bf4d4f2a",
   "metadata": {},
   "source": [
    "Null hypothesis (H₀): The series has a unit root → it’s non-stationary.\n",
    "\n",
    "Alternative hypothesis (H₁): The series is stationary."
   ]
  },
  {
   "cell_type": "code",
   "execution_count": 30,
   "id": "cd2e6f0a",
   "metadata": {},
   "outputs": [
    {
     "name": "stdout",
     "output_type": "stream",
     "text": [
      "ADF Statistic: -14.919880884882938\n",
      "n_lags: 1.4168234933853204e-27\n",
      "p-value: 1.4168234933853204e-27\n",
      "Critial Values:\n",
      "   1%, -3.4329673628206447\n",
      "Critial Values:\n",
      "   5%, -2.862696337194766\n",
      "Critial Values:\n",
      "   10%, -2.567385563035082\n"
     ]
    }
   ],
   "source": [
    "result = adfuller(TSLA_df[\"Daily_Change\"], autolag='AIC')\n",
    "print(f'ADF Statistic: {result[0]}')\n",
    "print(f'n_lags: {result[1]}')\n",
    "print(f'p-value: {result[1]}')\n",
    "for key, value in result[4].items():\n",
    "    print('Critial Values:')\n",
    "    print(f'   {key}, {value}')"
   ]
  },
  {
   "cell_type": "markdown",
   "id": "66c50de3",
   "metadata": {},
   "source": [
    "Since p is lessthan 0.5 it reject null hypothesis and therefore the series is stationary."
   ]
  },
  {
   "cell_type": "code",
   "execution_count": 31,
   "id": "ed2cb06f",
   "metadata": {},
   "outputs": [
    {
     "name": "stdout",
     "output_type": "stream",
     "text": [
      "ADF Statistic: -1.3553897443168665\n",
      "n_lags: 0.6034663087990926\n",
      "p-value: 0.6034663087990926\n",
      "Critial Values:\n",
      "   1%, -3.4329842325121738\n",
      "Critial Values:\n",
      "   5%, -2.862703786843828\n",
      "Critial Values:\n",
      "   10%, -2.567389529328891\n"
     ]
    }
   ],
   "source": [
    "result = adfuller(TSLA_df[\"Close\"], autolag='AIC')\n",
    "print(f'ADF Statistic: {result[0]}')\n",
    "print(f'n_lags: {result[1]}')\n",
    "print(f'p-value: {result[1]}')\n",
    "for key, value in result[4].items():\n",
    "    print('Critial Values:')\n",
    "    print(f'   {key}, {value}')    "
   ]
  },
  {
   "cell_type": "markdown",
   "id": "fa1e258b",
   "metadata": {},
   "source": [
    "Since 0.603 > 0.05 (for a 95% confidence test), we fail to reject the null hypothesis.\n",
    "\n",
    "The null hypothesis in the ADF test is that the series has a unit root (i.e., it’s non-stationary)."
   ]
  },
  {
   "cell_type": "markdown",
   "id": "24dd7a96",
   "metadata": {},
   "source": [
    "* Calculate rolling means and standard deviations of DR"
   ]
  },
  {
   "cell_type": "code",
   "execution_count": 32,
   "id": "7bc930c2",
   "metadata": {},
   "outputs": [],
   "source": [
    "TSLA_df[\"Closing_Price_Rolling_Mean\"] = TSLA_df[\"Daily_Change\"].rolling(window=30).mean().isnull().sum()\n",
    "TSLA_df[\"Closing_Price_Rolling_STD\"] = TSLA_df[\"Daily_Change\"].rolling(window=30).std().isnull().sum()"
   ]
  },
  {
   "cell_type": "markdown",
   "id": "d1c13539",
   "metadata": {},
   "source": [
    "* Compute key risk metrics VaR"
   ]
  },
  {
   "cell_type": "code",
   "execution_count": 33,
   "id": "f53f49de",
   "metadata": {},
   "outputs": [
    {
     "name": "stdout",
     "output_type": "stream",
     "text": [
      "Value at Risk (VaR) at 95% confidence level: -8.09%\n"
     ]
    }
   ],
   "source": [
    "# it tells you the maximum loss you could expect over a given period at a certain confidence level\n",
    "VaR_95 = TSLA_df[\"Daily_Change\"].quantile(0.05)\n",
    "print(f'Value at Risk (VaR) at 95% confidence level: {VaR_95:.2f}%')"
   ]
  },
  {
   "cell_type": "markdown",
   "id": "d781deee",
   "metadata": {},
   "source": [
    "This means on a typical day, 95% of the time the loss will be smaller than 8.09%."
   ]
  }
 ],
 "metadata": {
  "kernelspec": {
   "display_name": "venv",
   "language": "python",
   "name": "python3"
  },
  "language_info": {
   "codemirror_mode": {
    "name": "ipython",
    "version": 3
   },
   "file_extension": ".py",
   "mimetype": "text/x-python",
   "name": "python",
   "nbconvert_exporter": "python",
   "pygments_lexer": "ipython3",
   "version": "3.13.5"
  }
 },
 "nbformat": 4,
 "nbformat_minor": 5
}
